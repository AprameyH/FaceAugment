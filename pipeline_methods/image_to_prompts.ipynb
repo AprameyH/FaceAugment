{
 "cells": [
  {
   "cell_type": "code",
   "execution_count": 15,
   "metadata": {},
   "outputs": [],
   "source": [
    "import openai\n",
    "from openai import OpenAI\n",
    "\n",
    "import base64\n",
    "import requests\n",
    "\n",
    "def load_api_key(file_path):\n",
    "    with open(file_path, 'r') as file:\n",
    "        api_key = file.read().strip()\n",
    "    return api_key\n",
    "\n",
    "# Usage\n",
    "api_key_file = 'api_key.txt'\n",
    "api_key = load_api_key(api_key_file)\n",
    "# Set up your OpenAI API key\n",
    "# set api key with openai\n",
    "openai.api_key = api_key\n"
   ]
  },
  {
   "cell_type": "code",
   "execution_count": 16,
   "metadata": {},
   "outputs": [
    {
     "name": "stdout",
     "output_type": "stream",
     "text": [
      "{'id': 'chatcmpl-9JYAToKPYf3YMzmuL8v005z8HmzY9', 'object': 'chat.completion', 'created': 1714446601, 'model': 'gpt-4-1106-vision-preview', 'choices': [{'index': 0, 'message': {'role': 'assistant', 'content': \"Gender: Woman\\nRace: Asian\\nSkin Color: Light\\nEstimated Age: late 20s to early 30s\\nFace Shape: Oval\\nForehead: Medium\\nEyebrows: Average, Straight\\nEyes:\\n  - Color: Brown\\n  - Size: Medium\\n  - Shape: Almond\\n  - Distance: Average\\nNose:\\n  - Shape: Straight\\n  - Size: Medium\\n  - Nostril Shape: Average\\nCheeks: Flat\\nLips:\\n  - Size: Average\\n  - Shape: Average\\n  - Cupid's Bow: Subtle\\nChin: Round\\nJawline: Rounded\\nEars: Not visible due to hair\\nHair:\\n  - Color: Brown\\n  - Texture: Straight\\n  - Hairline: Average\\nBuild: Slim\\nDistinctive Features: None particularly notable in the image provided.\"}, 'logprobs': None, 'finish_reason': 'stop'}], 'usage': {'prompt_tokens': 726, 'completion_tokens': 183, 'total_tokens': 909}, 'system_fingerprint': None}\n"
     ]
    }
   ],
   "source": [
    "# Function to encode the image\n",
    "def encode_image(image_path):\n",
    "    with open(image_path, \"rb\") as image_file:\n",
    "        return base64.b64encode(image_file.read()).decode('utf-8')\n",
    "\n",
    "# Path to your image\n",
    "image_path = \"/home/apramey/FaceAugment/generated_images/Other_Source/ya_source2.png\"\n",
    "prompt = \"\"\"\n",
    "What are the facial features of the celebrity in this image. Can you provide the following details in this structured format:\n",
    "Gender: [Man, Woman]\n",
    "Race: [Asian, Black, White, Indian, Mixed]\n",
    "Skin Color: [Light, Medium, Olive, Rosy, Warm Rosy, Warm Tan, Tan, Dark Tan, Dark, Porcelain]\n",
    "Estimated Age: [age range ex. late 30s]\n",
    "Face Shape: [Oval, Round, Square, Heart, Oblong, Diamond, Triangle]\n",
    "Forehead: [Low, Medium, High]\n",
    "Eyebrows: [Thin, Average, Thick, Arched, Straight]\n",
    "Eyes:\n",
    "  - Color: [Brown, Blue, Green, Hazel, Gray]\n",
    "  - Size: [Small, Medium, Large]\n",
    "  - Shape: [Round, Almond, Hooded, Downturned, Upturned]\n",
    "  - Distance: [Close-set, Average, Wide-set]\n",
    "Nose:\n",
    "  - Shape: [Straight, Concave, Convex, Button, Hooked, Bulbous]\n",
    "  - Size: [Small, Medium, Large]\n",
    "  - Nostril Shape: [Narrow, Average, Wide, Flared]\n",
    "Cheeks: [Flat, Curved, High, Prominent]\n",
    "Lips:\n",
    "  - Size: [Thin, Average, Full]\n",
    "  - Shape: [Narrow, Average, Wide]\n",
    "  - Cupid's Bow: [Absent, Subtle, Prominent]\n",
    "Chin: [Pointed, Round, Square, Dimpled, Double, Cleft]\n",
    "Jawline: [Rounded, Angular, Square]\n",
    "Ears: [Small, Medium, Large, Attached Earlobes, Detached Earlobes]\n",
    "Hair:\n",
    "  - Color: [Black, Brown, Blonde, Red, Gray, White, Dyed]\n",
    "  - Texture: [Straight, Wavy, Curly, Coily]\n",
    "  - Hairline: [Low, Average, High, Receding]\n",
    "Build: [Slim, Average, Athletic, Heavy, Overweight]\n",
    "Distinctive Features: [List any notable features such as freckles, dimples, scars, moles, birthmarks, tattoos, piercings, or other unique characteristics]\n",
    "\"\"\"\n",
    "\n",
    "# Getting the base64 string\n",
    "base64_image = encode_image(image_path)\n",
    "\n",
    "headers = {\n",
    "    \"Content-Type\": \"application/json\",\n",
    "    \"Authorization\": f\"Bearer {api_key}\"\n",
    "}\n",
    "\n",
    "payload = {\n",
    "    \"model\": \"gpt-4-vision-preview\",\n",
    "    \"messages\": [\n",
    "      {\n",
    "        \"role\": \"user\",\n",
    "        \"content\": [\n",
    "          {\n",
    "            \"type\": \"text\",\n",
    "            \"text\": prompt\n",
    "          },\n",
    "          {\n",
    "            \"type\": \"image_url\",\n",
    "            \"image_url\": {\n",
    "              \"url\": f\"data:image/jpeg;base64,{base64_image}\"\n",
    "            }\n",
    "          }\n",
    "        ]\n",
    "      }\n",
    "    ],\n",
    "    \"max_tokens\": 300\n",
    "}\n",
    "\n",
    "response = requests.post(\"https://api.openai.com/v1/chat/completions\", headers=headers, json=payload)\n",
    "\n",
    "print(response.json())"
   ]
  },
  {
   "cell_type": "code",
   "execution_count": 17,
   "metadata": {},
   "outputs": [],
   "source": [
    "facial_features = response.json()[\"choices\"][0]['message']['content']"
   ]
  },
  {
   "cell_type": "code",
   "execution_count": 18,
   "metadata": {},
   "outputs": [
    {
     "data": {
      "text/plain": [
       "\"Gender: Woman\\nRace: Asian\\nSkin Color: Light\\nEstimated Age: late 20s to early 30s\\nFace Shape: Oval\\nForehead: Medium\\nEyebrows: Average, Straight\\nEyes:\\n  - Color: Brown\\n  - Size: Medium\\n  - Shape: Almond\\n  - Distance: Average\\nNose:\\n  - Shape: Straight\\n  - Size: Medium\\n  - Nostril Shape: Average\\nCheeks: Flat\\nLips:\\n  - Size: Average\\n  - Shape: Average\\n  - Cupid's Bow: Subtle\\nChin: Round\\nJawline: Rounded\\nEars: Not visible due to hair\\nHair:\\n  - Color: Brown\\n  - Texture: Straight\\n  - Hairline: Average\\nBuild: Slim\\nDistinctive Features: None particularly notable in the image provided.\""
      ]
     },
     "execution_count": 18,
     "metadata": {},
     "output_type": "execute_result"
    }
   ],
   "source": [
    "facial_features"
   ]
  },
  {
   "cell_type": "code",
   "execution_count": 19,
   "metadata": {},
   "outputs": [],
   "source": [
    "settings = [\"Looking to left\",\n",
    "            \"Face pointed down\",\n",
    "            \"Happy\",\n",
    "            \"Long Hair\",\n",
    "            \"Short Hair\",\n",
    "            \"Serious\",\n",
    "            \"Hair covering ears\"\n",
    "            ]\n",
    "image_prompts = []"
   ]
  },
  {
   "cell_type": "code",
   "execution_count": 20,
   "metadata": {},
   "outputs": [],
   "source": [
    "for setting in settings:\n",
    "\n",
    "    # User input for facial features and image characteristics\n",
    "    image_characteristics = \"taken with EOS R 300mm f2.8, real photo, 4k resolution, ar 9:16, v 6\"\n",
    "    example = '\"American woman on a movie set, light skin, forty two years old, attractive, ears hidden by hair, dark brown hair, taken with EOS R 300mm f2.8, real photo, handsome, 4k resolution, ar 9:16, v 6, amber eyes, hair parted down middle, thin nose, realistic, casual photo\"'\n",
    "    # Generate the prompt using the user input\n",
    "    prompt = f\"\"\"\n",
    "    Given the following facial features and image characteristics, please generate a detailed prompt which will be inputted into \n",
    "    Dalle for creating an image of this person in the given setting:\n",
    "\n",
    "    Facial Features:\n",
    "    {facial_features}\n",
    "\n",
    "    Image Characteristics:\n",
    "    {image_characteristics}\n",
    "\n",
    "    Setting:\n",
    "    {setting}\n",
    "\n",
    "    format answer like this example: Limit answer to 70 tokens:\n",
    "    {example}\n",
    "    \"\"\"\n",
    "    client = OpenAI(api_key=api_key)\n",
    "    # Use the OpenAI API to generate the image prompt\n",
    "    response = client.chat.completions.create(\n",
    "        model=\"gpt-4-turbo\",\n",
    "        messages=[\n",
    "            {\"role\": \"system\", \"content\": \"You are a helpful assistant.\"},\n",
    "            {\"role\": \"user\", \"content\": prompt}\n",
    "        ],\n",
    "        max_tokens=77,\n",
    "        n=1,\n",
    "        stop=None,\n",
    "        temperature=0.7,\n",
    "        )\n",
    "    \n",
    "    image_prompts.append(response.choices[0].message.content.strip())\n",
    "\n"
   ]
  },
  {
   "cell_type": "code",
   "execution_count": 21,
   "metadata": {},
   "outputs": [
    {
     "name": "stdout",
     "output_type": "stream",
     "text": [
      "[\"Asian woman, light skin, late 20s, slim build, oval face, medium straight brown hair, brown almond eyes, straight eyebrows, average lips, realistic, taken with EOS R 300mm f2.8, real photo, 4k resolution, ar 9:16, v 6, looking to left\", \n",
      "\"Asian woman in contemplative pose, light skin, late 20s, oval face, brown straight hair, medium brown almond eyes, straight eyebrows, flat cheeks, average lips with subtle cupid's bow, rounded chin, slim build, taken with EOS R 300mm f2.8, real photo, 4k resolution, ar 9:16, v 6, \n",
      "\"Asian woman, light skin, late 20s, oval face, brown straight hair, almond brown eyes, straight eyebrows, average lips, slim build, happy setting, taken with EOS R 300mm f2.8, real photo, 4k resolution, ar 9:16, v 6.\", \n",
      "\"Asian woman, light skin, late 20s, oval face, brown straight hair, medium straight eyebrows, almond-shaped brown eyes, straight nose, flat cheeks, average lips with subtle cupid's bow, rounded chin, slim build, taken with EOS R 300mm f2.8, real photo, 4k resolution, ar 9:16, v 6, \n",
      "\"Asian woman in urban setting, light skin, late 20s, oval face, brown almond eyes, straight medium brown hair, slim build, taken with EOS R 300mm f2.8, real photo, 4k resolution, ar 9:16, v 6, subtle makeup, casual appearance, realistic photo\", \n",
      "\"Asian woman in a formal setting, light skin, late 20s, sleek straight brown hair, oval face, medium brown almond eyes, average straight eyebrows, medium straight nose, average lips with subtle cupid's bow, rounded chin, slim build, taken with EOS R 300mm f2.8, real photo, 4k resolution, ar 9:16,, \n",
      "\"Asian woman, light skin, late 20s, oval face, brown straight hair covering ears, brown almond eyes, slim build, taken with EOS R 300mm f2.8, real photo, 4k resolution, ar 9:16, v 6, subtle makeup, casual setting.\", \n",
      "]"
     ]
    }
   ],
   "source": [
    "# Extract the generated image prompt from the API response)\n",
    "print('[', end=\"\")\n",
    "for p in image_prompts:\n",
    "    print(p, end=\", \\n\")\n",
    "print(']', end=\"\")"
   ]
  },
  {
   "cell_type": "code",
   "execution_count": null,
   "metadata": {},
   "outputs": [],
   "source": []
  },
  {
   "cell_type": "code",
   "execution_count": null,
   "metadata": {},
   "outputs": [],
   "source": []
  }
 ],
 "metadata": {
  "kernelspec": {
   "display_name": "base",
   "language": "python",
   "name": "python3"
  },
  "language_info": {
   "codemirror_mode": {
    "name": "ipython",
    "version": 3
   },
   "file_extension": ".py",
   "mimetype": "text/x-python",
   "name": "python",
   "nbconvert_exporter": "python",
   "pygments_lexer": "ipython3",
   "version": "3.10.13"
  }
 },
 "nbformat": 4,
 "nbformat_minor": 2
}
