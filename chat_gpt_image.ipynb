{
 "cells": [
  {
   "cell_type": "code",
   "execution_count": 13,
   "metadata": {},
   "outputs": [],
   "source": [
    "import openai\n",
    "\n",
    "import base64\n",
    "import requests\n",
    "\n",
    "\n",
    "# Set up your OpenAI API key\n",
    "# set api key with openai\n",
    "api_key = ...\n",
    "openai.api_key = api_key\n"
   ]
  },
  {
   "cell_type": "code",
   "execution_count": 14,
   "metadata": {},
   "outputs": [
    {
     "name": "stdout",
     "output_type": "stream",
     "text": [
      "{'id': 'chatcmpl-9I3S14dRGqn7yE93G9E74SeKGcTLI', 'object': 'chat.completion', 'created': 1714090197, 'model': 'gpt-4-1106-vision-preview', 'choices': [{'index': 0, 'message': {'role': 'assistant', 'content': \"Face Shape: Oval\\nForehead: Medium\\nEyebrows: Average, Arched\\nEyes:\\n  - Color: Brown\\n  - Size: Medium\\n  - Shape: Almond\\n  - Distance: Average\\nNose:\\n  - Shape: Straight\\n  - Size: Medium\\n  - Nostril Shape: Average\\nCheeks: Curved\\nLips:\\n  - Size: Full\\n  - Shape: Average\\n  - Cupid's Bow: Prominent\\nChin: Round\\nJawline: Rounded\\nEars: Medium, Detached Earlobes\\nHair:\\n  - Color: Brown\\n  - Texture: Wavy\\n  - Hairline: Average\\nEstimated Age: Possibly in his early to mid-20s\\nBuild: Slim\\nDistinctive Features: None that can be clearly identified from the image provided.\"}, 'logprobs': None, 'finish_reason': 'stop'}], 'usage': {'prompt_tokens': 1191, 'completion_tokens': 178, 'total_tokens': 1369}, 'system_fingerprint': None}\n"
     ]
    }
   ],
   "source": [
    "# Function to encode the image\n",
    "def encode_image(image_path):\n",
    "    with open(image_path, \"rb\") as image_file:\n",
    "        return base64.b64encode(image_file.read()).decode('utf-8')\n",
    "\n",
    "# Path to your image\n",
    "image_path = \"tom-holland-attends-the-los-angeles-premiere-of-sony-news-photo-1683915930.jpg\"\n",
    "prompt = \"\"\"\n",
    "What are the facial features of the celeberty in this image. Can you provide the following details in this structured format:\n",
    "Face Shape: [Oval, Round, Square, Heart, Oblong, Diamond, Triangle]\n",
    "Forehead: [Low, Medium, High]\n",
    "Eyebrows: [Thin, Average, Thick, Arched, Straight]\n",
    "Eyes:\n",
    "  - Color: [Brown, Blue, Green, Hazel, Gray, Heterochromia]\n",
    "  - Size: [Small, Medium, Large]\n",
    "  - Shape: [Round, Almond, Hooded, Downturned, Upturned]\n",
    "  - Distance: [Close-set, Average, Wide-set]\n",
    "Nose:\n",
    "  - Shape: [Straight, Concave, Convex, Button, Hooked, Bulbous]\n",
    "  - Size: [Small, Medium, Large]\n",
    "  - Nostril Shape: [Narrow, Average, Wide, Flared]\n",
    "Cheeks: [Flat, Curved, High, Prominent]\n",
    "Lips:\n",
    "  - Size: [Thin, Average, Full]\n",
    "  - Shape: [Narrow, Average, Wide]\n",
    "  - Cupid's Bow: [Absent, Subtle, Prominent]\n",
    "Chin: [Pointed, Round, Square, Dimpled, Double, Cleft]\n",
    "Jawline: [Rounded, Angular, Square]\n",
    "Ears: [Small, Medium, Large, Attached Earlobes, Detached Earlobes]\n",
    "Hair:\n",
    "  - Color: [Black, Brown, Blonde, Red, Gray, White, Dyed]\n",
    "  - Texture: [Straight, Wavy, Curly, Coily]\n",
    "  - Hairline: [Low, Average, High, Receding]\n",
    "Estimated Age: [age range ex. late 30s]\n",
    "Build: [Slim, Average, Athletic, Heavy]\n",
    "Distinctive Features: [List any notable features such as freckles, dimples, scars, moles, birthmarks, tattoos, piercings, or other unique characteristics]\n",
    "\"\"\"\n",
    "\n",
    "# Getting the base64 string\n",
    "base64_image = encode_image(image_path)\n",
    "\n",
    "headers = {\n",
    "    \"Content-Type\": \"application/json\",\n",
    "    \"Authorization\": f\"Bearer {api_key}\"\n",
    "}\n",
    "\n",
    "payload = {\n",
    "    \"model\": \"gpt-4-vision-preview\",\n",
    "    \"messages\": [\n",
    "      {\n",
    "        \"role\": \"user\",\n",
    "        \"content\": [\n",
    "          {\n",
    "            \"type\": \"text\",\n",
    "            \"text\": prompt\n",
    "          },\n",
    "          {\n",
    "            \"type\": \"image_url\",\n",
    "            \"image_url\": {\n",
    "              \"url\": f\"data:image/jpeg;base64,{base64_image}\"\n",
    "            }\n",
    "          }\n",
    "        ]\n",
    "      }\n",
    "    ],\n",
    "    \"max_tokens\": 300\n",
    "}\n",
    "\n",
    "response = requests.post(\"https://api.openai.com/v1/chat/completions\", headers=headers, json=payload)\n",
    "\n",
    "print(response.json())"
   ]
  },
  {
   "cell_type": "code",
   "execution_count": 15,
   "metadata": {},
   "outputs": [],
   "source": [
    "facial_features = response.json()[\"choices\"][0]['message']['content']"
   ]
  },
  {
   "cell_type": "code",
   "execution_count": 17,
   "metadata": {},
   "outputs": [
    {
     "data": {
      "text/plain": [
       "\"Face Shape: Oval\\nForehead: Medium\\nEyebrows: Average, Arched\\nEyes:\\n  - Color: Brown\\n  - Size: Medium\\n  - Shape: Almond\\n  - Distance: Average\\nNose:\\n  - Shape: Straight\\n  - Size: Medium\\n  - Nostril Shape: Average\\nCheeks: Curved\\nLips:\\n  - Size: Full\\n  - Shape: Average\\n  - Cupid's Bow: Prominent\\nChin: Round\\nJawline: Rounded\\nEars: Medium, Detached Earlobes\\nHair:\\n  - Color: Brown\\n  - Texture: Wavy\\n  - Hairline: Average\\nEstimated Age: Possibly in his early to mid-20s\\nBuild: Slim\\nDistinctive Features: None that can be clearly identified from the image provided.\""
      ]
     },
     "execution_count": 17,
     "metadata": {},
     "output_type": "execute_result"
    }
   ],
   "source": [
    "facial_features"
   ]
  },
  {
   "cell_type": "code",
   "execution_count": 18,
   "metadata": {},
   "outputs": [],
   "source": [
    "\n",
    "# User input for facial features and image characteristics\n",
    "image_characteristics = \"taken with EOS R 300mm f2.8, real photo, front, zoom shot, 4k resolution, ar 9:16, v 6\"\n",
    "setting = \"Looking to left, has glasses on\"\n",
    "example = '\"American woman on a movie set, forty two years old, attractive, dark brown hair, taken with EOS R 300mm f2.8, real photo, front, distance shot, handsome, 4k resolution, ar 9:16, v 6, amber eyes, hair parted down middle, thin nose, realistic, casual photo\"'\n",
    "# Generate the prompt using the user input\n",
    "prompt = f\"\"\"\n",
    "Given the following facial features and image characteristics, please generate a detailed prompt which will be inputted into \n",
    "Dalle for creating an image of this person in the given setting:\n",
    "\n",
    "Facial Features:\n",
    "{facial_features}\n",
    "\n",
    "Image Characteristics:\n",
    "{image_characteristics}\n",
    "\n",
    "Setting:\n",
    "{setting}\n",
    "\n",
    "format answer like this example: Limit answer to 70 tokens:\n",
    "{example}\n",
    "\"\"\"\n"
   ]
  },
  {
   "cell_type": "code",
   "execution_count": 19,
   "metadata": {},
   "outputs": [],
   "source": [
    "\n",
    "# Use the OpenAI API to generate the image prompt\n",
    "response = openai.ChatCompletion.create(\n",
    "    model=\"gpt-4-turbo\",\n",
    "    messages=[\n",
    "        {\"role\": \"system\", \"content\": \"You are a helpful assistant.\"},\n",
    "        {\"role\": \"user\", \"content\": prompt}\n",
    "    ],\n",
    "    max_tokens=100,\n",
    "    n=1,\n",
    "    stop=None,\n",
    "    temperature=0.7,\n",
    ")\n"
   ]
  },
  {
   "cell_type": "code",
   "execution_count": 20,
   "metadata": {},
   "outputs": [
    {
     "name": "stdout",
     "output_type": "stream",
     "text": [
      "Generated Image Prompt:\n",
      "\"Man in his early 20s with oval face, medium brown wavy hair, brown almond eyes, full lips with a prominent cupid's bow, wearing glasses, looking left, taken with EOS R 300mm f2.8, real photo, front, zoom shot, 4k resolution, ar 9:16, v 6.\"\n"
     ]
    }
   ],
   "source": [
    "\n",
    "# Extract the generated image prompt from the API response\n",
    "image_prompt = response.choices[0].message['content'].strip()\n",
    "\n",
    "print(\"Generated Image Prompt:\")\n",
    "print(image_prompt)"
   ]
  }
 ],
 "metadata": {
  "kernelspec": {
   "display_name": "base",
   "language": "python",
   "name": "python3"
  },
  "language_info": {
   "codemirror_mode": {
    "name": "ipython",
    "version": 3
   },
   "file_extension": ".py",
   "mimetype": "text/x-python",
   "name": "python",
   "nbconvert_exporter": "python",
   "pygments_lexer": "ipython3",
   "version": "3.11.4"
  }
 },
 "nbformat": 4,
 "nbformat_minor": 2
}
