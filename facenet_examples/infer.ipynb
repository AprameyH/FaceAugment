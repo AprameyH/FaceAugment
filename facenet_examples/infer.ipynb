{
 "cells": [
  {
   "cell_type": "markdown",
   "metadata": {},
   "source": [
    "# Face detection and recognition inference pipeline\n",
    "\n",
    "The following example illustrates how to use the `facenet_pytorch` python package to perform face detection and recogition on an image dataset using an Inception Resnet V1 pretrained on the VGGFace2 dataset.\n",
    "\n",
    "The following Pytorch methods are included:\n",
    "* Datasets\n",
    "* Dataloaders\n",
    "* GPU/CPU processing"
   ]
  },
  {
   "cell_type": "code",
   "execution_count": 13,
   "metadata": {},
   "outputs": [],
   "source": [
    "from facenet_pytorch import MTCNN, InceptionResnetV1\n",
    "import torch\n",
    "from torch.utils.data import DataLoader\n",
    "from torchvision import datasets\n",
    "import numpy as np\n",
    "import pandas as pd\n",
    "import os\n",
    "\n",
    "workers = 0 if os.name == 'nt' else 4"
   ]
  },
  {
   "cell_type": "markdown",
   "metadata": {},
   "source": [
    "#### Determine if an nvidia GPU is available"
   ]
  },
  {
   "cell_type": "code",
   "execution_count": 14,
   "metadata": {},
   "outputs": [
    {
     "name": "stdout",
     "output_type": "stream",
     "text": [
      "Running on device: cuda:0\n"
     ]
    }
   ],
   "source": [
    "device = torch.device('cuda:0' if torch.cuda.is_available() else 'cpu')\n",
    "print('Running on device: {}'.format(device))"
   ]
  },
  {
   "cell_type": "markdown",
   "metadata": {},
   "source": [
    "#### Define MTCNN module\n",
    "\n",
    "Default params shown for illustration, but not needed. Note that, since MTCNN is a collection of neural nets and other code, the device must be passed in the following way to enable copying of objects when needed internally.\n",
    "\n",
    "See `help(MTCNN)` for more details."
   ]
  },
  {
   "cell_type": "code",
   "execution_count": 15,
   "metadata": {},
   "outputs": [],
   "source": [
    "mtcnn = MTCNN(\n",
    "    image_size=160, margin=0, min_face_size=20,\n",
    "    thresholds=[0.6, 0.7, 0.7], factor=0.709, post_process=True,\n",
    "    device=device\n",
    ")"
   ]
  },
  {
   "cell_type": "markdown",
   "metadata": {},
   "source": [
    "#### Define Inception Resnet V1 module\n",
    "\n",
    "Set classify=True for pretrained classifier. For this example, we will use the model to output embeddings/CNN features. Note that for inference, it is important to set the model to `eval` mode.\n",
    "\n",
    "See `help(InceptionResnetV1)` for more details."
   ]
  },
  {
   "cell_type": "code",
   "execution_count": 16,
   "metadata": {},
   "outputs": [],
   "source": [
    "resnet = InceptionResnetV1(pretrained='vggface2').eval().to(device)"
   ]
  },
  {
   "cell_type": "markdown",
   "metadata": {},
   "source": [
    "#### Define a dataset and data loader\n",
    "\n",
    "We add the `idx_to_class` attribute to the dataset to enable easy recoding of label indices to identity names later one."
   ]
  },
  {
   "cell_type": "code",
   "execution_count": 17,
   "metadata": {},
   "outputs": [],
   "source": [
    "def collate_fn(x):\n",
    "    return x[0]\n",
    "\n",
    "dataset = datasets.ImageFolder('../data/test_images')\n",
    "dataset.idx_to_class = {i:c for c, i in dataset.class_to_idx.items()}\n",
    "loader = DataLoader(dataset, collate_fn=collate_fn, num_workers=workers)"
   ]
  },
  {
   "cell_type": "code",
   "execution_count": 18,
   "metadata": {},
   "outputs": [
    {
     "data": {
      "text/plain": [
       "{0: 'angelina_jolie',\n",
       " 1: 'bradley_cooper',\n",
       " 2: 'kate_siegel',\n",
       " 3: 'paul_rudd',\n",
       " 4: 'shea_whigham'}"
      ]
     },
     "execution_count": 18,
     "metadata": {},
     "output_type": "execute_result"
    }
   ],
   "source": [
    "dataset.idx_to_class"
   ]
  },
  {
   "cell_type": "markdown",
   "metadata": {},
   "source": [
    "#### Perfom MTCNN facial detection\n",
    "\n",
    "Iterate through the DataLoader object and detect faces and associated detection probabilities for each. The `MTCNN` forward method returns images cropped to the detected face, if a face was detected. By default only a single detected face is returned - to have `MTCNN` return all detected faces, set `keep_all=True` when creating the MTCNN object above.\n",
    "\n",
    "To obtain bounding boxes rather than cropped face images, you can instead call the lower-level `mtcnn.detect()` function. See `help(mtcnn.detect)` for details."
   ]
  },
  {
   "cell_type": "code",
   "execution_count": 19,
   "metadata": {},
   "outputs": [
    {
     "name": "stdout",
     "output_type": "stream",
     "text": [
      "Face detected with probability: 0.999983\n",
      "Face detected with probability: 0.999934\n",
      "Face detected with probability: 0.999733\n",
      "Face detected with probability: 0.999876\n",
      "Face detected with probability: 0.999992\n"
     ]
    }
   ],
   "source": [
    "aligned = []\n",
    "names = []\n",
    "for x, y in loader:\n",
    "    x_aligned, prob = mtcnn(x, return_prob=True)\n",
    "    if x_aligned is not None:\n",
    "        print('Face detected with probability: {:8f}'.format(prob))\n",
    "        aligned.append(x_aligned)\n",
    "        names.append(dataset.idx_to_class[y])"
   ]
  },
  {
   "cell_type": "markdown",
   "metadata": {},
   "source": [
    "#### Calculate image embeddings\n",
    "\n",
    "MTCNN will return images of faces all the same size, enabling easy batch processing with the Resnet recognition module. Here, since we only have a few images, we build a single batch and perform inference on it. \n",
    "\n",
    "For real datasets, code should be modified to control batch sizes being passed to the Resnet, particularly if being processed on a GPU. For repeated testing, it is best to separate face detection (using MTCNN) from embedding or classification (using InceptionResnetV1), as calculation of cropped faces or bounding boxes can then be performed a single time and detected faces saved for future use."
   ]
  },
  {
   "cell_type": "code",
   "execution_count": 21,
   "metadata": {},
   "outputs": [
    {
     "data": {
      "text/plain": [
       "tensor([[[[-0.4883, -0.5352, -0.5195,  ...,  0.8633,  0.8633,  0.8633],\n",
       "          [-0.5664, -0.5430, -0.4492,  ...,  0.8633,  0.8711,  0.8711],\n",
       "          [-0.5508, -0.5273, -0.3633,  ...,  0.8711,  0.8711,  0.8711],\n",
       "          ...,\n",
       "          [-0.5352, -0.5273, -0.4727,  ..., -0.0586, -0.0898, -0.1523],\n",
       "          [-0.3867, -0.3320, -0.2539,  ..., -0.0508, -0.0820, -0.1523],\n",
       "          [-0.2852, -0.2773, -0.2773,  ..., -0.0586, -0.1055, -0.1523]],\n",
       "\n",
       "         [[-0.6367, -0.6836, -0.6758,  ...,  0.7617,  0.7617,  0.7617],\n",
       "          [-0.6992, -0.6836, -0.6289,  ...,  0.7617,  0.7695,  0.7695],\n",
       "          [-0.6836, -0.6680, -0.5742,  ...,  0.7695,  0.7695,  0.7695],\n",
       "          ...,\n",
       "          [-0.7148, -0.7070, -0.6680,  ..., -0.4336, -0.4570, -0.5039],\n",
       "          [-0.6211, -0.5742, -0.5117,  ..., -0.4258, -0.4570, -0.5117],\n",
       "          [-0.5586, -0.5508, -0.5508,  ..., -0.4258, -0.4727, -0.5117]],\n",
       "\n",
       "         [[-0.7539, -0.7773, -0.7852,  ...,  0.6914,  0.6914,  0.6914],\n",
       "          [-0.7773, -0.7695, -0.7461,  ...,  0.6914,  0.6992,  0.6992],\n",
       "          [-0.7383, -0.7539, -0.7148,  ...,  0.6992,  0.7070,  0.6992],\n",
       "          ...,\n",
       "          [-0.8164, -0.8164, -0.7852,  ..., -0.6758, -0.6836, -0.7305],\n",
       "          [-0.7695, -0.7383, -0.6914,  ..., -0.6602, -0.6602, -0.7070],\n",
       "          [-0.7227, -0.7148, -0.7305,  ..., -0.6680, -0.6758, -0.6992]]],\n",
       "\n",
       "\n",
       "        [[[-0.8242, -0.8164, -0.7852,  ..., -0.9492, -0.9492, -0.9492],\n",
       "          [-0.8398, -0.8398, -0.8164,  ..., -0.9492, -0.9570, -0.9492],\n",
       "          [-0.8477, -0.8555, -0.8555,  ..., -0.9414, -0.9414, -0.9414],\n",
       "          ...,\n",
       "          [-0.8867, -0.8867, -0.9023,  ...,  0.2930,  0.3398,  0.3164],\n",
       "          [-0.8867, -0.8867, -0.8945,  ...,  0.3398,  0.3164,  0.2695],\n",
       "          [-0.8945, -0.8945, -0.9023,  ...,  0.3398,  0.2930,  0.3008]],\n",
       "\n",
       "         [[-0.8633, -0.8555, -0.8320,  ..., -0.9570, -0.9570, -0.9570],\n",
       "          [-0.8711, -0.8789, -0.8633,  ..., -0.9570, -0.9570, -0.9570],\n",
       "          [-0.8867, -0.8945, -0.8945,  ..., -0.9492, -0.9570, -0.9570],\n",
       "          ...,\n",
       "          [-0.8086, -0.8164, -0.8398,  ..., -0.1602, -0.1211, -0.1445],\n",
       "          [-0.8086, -0.8164, -0.8398,  ..., -0.1133, -0.1445, -0.1914],\n",
       "          [-0.8320, -0.8320, -0.8555,  ..., -0.1055, -0.1445, -0.1211]],\n",
       "\n",
       "         [[-0.8945, -0.8867, -0.8711,  ..., -0.9805, -0.9805, -0.9883],\n",
       "          [-0.9023, -0.9102, -0.9023,  ..., -0.9805, -0.9883, -0.9883],\n",
       "          [-0.9180, -0.9258, -0.9180,  ..., -0.9805, -0.9805, -0.9883],\n",
       "          ...,\n",
       "          [-0.9961, -0.9883, -0.9883,  ..., -0.2305, -0.1992, -0.2305],\n",
       "          [-0.9883, -0.9883, -0.9883,  ..., -0.1914, -0.2305, -0.2695],\n",
       "          [-0.9883, -0.9883, -0.9883,  ..., -0.1992, -0.2383, -0.1836]]],\n",
       "\n",
       "\n",
       "        [[[ 0.0586,  0.0352,  0.1602,  ...,  0.5273,  0.6055,  0.6445],\n",
       "          [ 0.1602,  0.2305,  0.3555,  ...,  0.3555,  0.4727,  0.5352],\n",
       "          [ 0.3555,  0.4336,  0.4023,  ...,  0.0195,  0.2070,  0.3242],\n",
       "          ...,\n",
       "          [-0.8555, -0.8477, -0.8008,  ..., -0.9961, -0.9961, -0.9961],\n",
       "          [-0.8555, -0.8477, -0.8164,  ..., -0.9961, -0.9961, -0.9961],\n",
       "          [-0.8555, -0.8477, -0.8242,  ..., -0.9961, -0.9961, -0.9883]],\n",
       "\n",
       "         [[ 0.0430,  0.0273,  0.1602,  ...,  0.5352,  0.6133,  0.6602],\n",
       "          [ 0.1523,  0.2227,  0.3477,  ...,  0.3555,  0.4805,  0.5508],\n",
       "          [ 0.3477,  0.4258,  0.3945,  ...,  0.0117,  0.2070,  0.3242],\n",
       "          ...,\n",
       "          [-0.9805, -0.9805, -0.9648,  ..., -0.9961, -0.9961, -0.9961],\n",
       "          [-0.9727, -0.9727, -0.9727,  ..., -0.9961, -0.9961, -0.9961],\n",
       "          [-0.9805, -0.9805, -0.9727,  ..., -0.9961, -0.9961, -0.9961]],\n",
       "\n",
       "         [[ 0.0820,  0.0586,  0.1914,  ...,  0.5508,  0.6445,  0.7070],\n",
       "          [ 0.1914,  0.2617,  0.3867,  ...,  0.3711,  0.4961,  0.5820],\n",
       "          [ 0.3867,  0.4648,  0.4336,  ...,  0.0195,  0.2148,  0.3633],\n",
       "          ...,\n",
       "          [-0.9961, -0.9805, -0.9805,  ..., -0.9961, -0.9961, -0.9961],\n",
       "          [-0.9883, -0.9883, -0.9883,  ..., -0.9961, -0.9961, -0.9961],\n",
       "          [-0.9883, -0.9883, -0.9883,  ..., -0.9961, -0.9961, -0.9961]]],\n",
       "\n",
       "\n",
       "        [[[-0.7227, -0.7227, -0.7461,  ..., -0.6602, -0.7461, -0.7383],\n",
       "          [-0.7617, -0.7930, -0.8008,  ..., -0.6133, -0.6367, -0.7070],\n",
       "          [-0.7539, -0.7773, -0.7930,  ..., -0.6992, -0.5742, -0.5664],\n",
       "          ...,\n",
       "          [-0.4961, -0.6367, -0.7461,  ..., -0.9883, -0.9414, -0.8008],\n",
       "          [-0.9648, -0.9727, -0.9805,  ..., -0.9961, -0.9961, -0.9961],\n",
       "          [-0.9961, -0.9961, -0.9961,  ..., -0.9961, -0.9961, -0.9961]],\n",
       "\n",
       "         [[-0.7383, -0.7461, -0.7773,  ..., -0.6602, -0.7617, -0.7383],\n",
       "          [-0.7695, -0.8086, -0.8320,  ..., -0.6211, -0.6445, -0.7227],\n",
       "          [-0.7773, -0.8008, -0.8242,  ..., -0.7148, -0.5898, -0.5742],\n",
       "          ...,\n",
       "          [-0.4961, -0.6367, -0.7461,  ..., -0.9883, -0.9414, -0.7930],\n",
       "          [-0.9648, -0.9727, -0.9805,  ..., -0.9961, -0.9961, -0.9961],\n",
       "          [-0.9961, -0.9961, -0.9961,  ..., -0.9961, -0.9961, -0.9961]],\n",
       "\n",
       "         [[-0.7539, -0.7617, -0.7773,  ..., -0.6758, -0.7539, -0.7461],\n",
       "          [-0.7773, -0.8164, -0.8242,  ..., -0.6367, -0.6523, -0.7227],\n",
       "          [-0.7852, -0.8086, -0.8242,  ..., -0.7070, -0.6133, -0.6055],\n",
       "          ...,\n",
       "          [-0.5508, -0.6680, -0.7617,  ..., -0.9961, -0.9570, -0.8477],\n",
       "          [-0.9648, -0.9727, -0.9805,  ..., -0.9961, -0.9883, -0.9883],\n",
       "          [-0.9961, -0.9961, -0.9961,  ..., -0.9961, -0.9961, -0.9961]]],\n",
       "\n",
       "\n",
       "        [[[-0.6289, -0.2852, -0.3789,  ..., -0.6055, -0.5820, -0.5430],\n",
       "          [-0.4180, -0.5352, -0.5117,  ..., -0.6289, -0.6602, -0.6367],\n",
       "          [-0.6055, -0.5820, -0.5508,  ..., -0.5820, -0.5664, -0.4727],\n",
       "          ...,\n",
       "          [-0.1445, -0.0352, -0.4492,  ..., -0.1211, -0.4414, -0.2461],\n",
       "          [-0.2305,  0.0117, -0.5742,  ..., -0.2773, -0.3945, -0.5586],\n",
       "          [-0.3398,  0.1133, -0.4570,  ..., -0.3555, -0.2852, -0.4180]],\n",
       "\n",
       "         [[-0.7695, -0.4414, -0.5664,  ..., -0.7539, -0.7305, -0.6758],\n",
       "          [-0.6211, -0.7461, -0.7070,  ..., -0.7695, -0.7852, -0.7461],\n",
       "          [-0.7930, -0.7539, -0.6992,  ..., -0.7461, -0.7070, -0.6055],\n",
       "          ...,\n",
       "          [-0.1914, -0.1211, -0.5430,  ..., -0.2148, -0.5195, -0.3398],\n",
       "          [-0.3008, -0.0820, -0.6445,  ..., -0.3711, -0.4961, -0.6367],\n",
       "          [-0.4258,  0.0117, -0.5352,  ..., -0.4414, -0.4102, -0.5195]],\n",
       "\n",
       "         [[-0.7930, -0.4961, -0.6211,  ..., -0.8086, -0.7852, -0.7461],\n",
       "          [-0.6836, -0.8086, -0.7695,  ..., -0.8242, -0.8398, -0.8164],\n",
       "          [-0.8555, -0.8086, -0.7539,  ..., -0.8164, -0.7930, -0.7070],\n",
       "          ...,\n",
       "          [-0.1914, -0.1367, -0.5508,  ..., -0.2383, -0.5273, -0.3633],\n",
       "          [-0.3086, -0.0977, -0.6602,  ..., -0.3789, -0.5117, -0.6445],\n",
       "          [-0.4336, -0.0195, -0.5430,  ..., -0.4648, -0.4414, -0.5352]]]],\n",
       "       device='cuda:0')"
      ]
     },
     "execution_count": 21,
     "metadata": {},
     "output_type": "execute_result"
    }
   ],
   "source": []
  },
  {
   "cell_type": "code",
   "execution_count": 20,
   "metadata": {},
   "outputs": [],
   "source": [
    "aligned = torch.stack(aligned).to(device)\n",
    "embeddings = resnet(aligned).detach().cpu()"
   ]
  },
  {
   "cell_type": "markdown",
   "metadata": {},
   "source": [
    "#### Print distance matrix for classes"
   ]
  },
  {
   "cell_type": "code",
   "execution_count": 22,
   "metadata": {},
   "outputs": [
    {
     "data": {
      "text/plain": [
       "['angelina_jolie',\n",
       " 'bradley_cooper',\n",
       " 'kate_siegel',\n",
       " 'paul_rudd',\n",
       " 'shea_whigham']"
      ]
     },
     "execution_count": 22,
     "metadata": {},
     "output_type": "execute_result"
    }
   ],
   "source": [
    "names"
   ]
  },
  {
   "cell_type": "code",
   "execution_count": 8,
   "metadata": {},
   "outputs": [
    {
     "name": "stdout",
     "output_type": "stream",
     "text": [
      "                angelina_jolie  bradley_cooper  kate_siegel  paul_rudd  \\\n",
      "angelina_jolie        0.000000        1.344806     0.781201   1.425579   \n",
      "bradley_cooper        1.344806        0.000000     1.256238   0.922126   \n",
      "kate_siegel           0.781201        1.256238     0.000000   1.366423   \n",
      "paul_rudd             1.425579        0.922126     1.366423   0.000000   \n",
      "shea_whigham          1.448495        0.891145     1.416447   0.985438   \n",
      "\n",
      "                shea_whigham  \n",
      "angelina_jolie      1.448495  \n",
      "bradley_cooper      0.891145  \n",
      "kate_siegel         1.416447  \n",
      "paul_rudd           0.985438  \n",
      "shea_whigham        0.000000  \n"
     ]
    }
   ],
   "source": [
    "dists = [[(e1 - e2).norm().item() for e2 in embeddings] for e1 in embeddings]\n",
    "print(pd.DataFrame(dists, columns=names, index=names))"
   ]
  }
 ],
 "metadata": {
  "kernelspec": {
   "display_name": "Python 3",
   "language": "python",
   "name": "python3"
  },
  "language_info": {
   "codemirror_mode": {
    "name": "ipython",
    "version": 3
   },
   "file_extension": ".py",
   "mimetype": "text/x-python",
   "name": "python",
   "nbconvert_exporter": "python",
   "pygments_lexer": "ipython3",
   "version": "3.11.4"
  }
 },
 "nbformat": 4,
 "nbformat_minor": 2
}
