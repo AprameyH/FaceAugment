{
 "cells": [
  {
   "cell_type": "markdown",
   "metadata": {},
   "source": [
    "# Face detection and recognition training pipeline\n",
    "\n",
    "The following example illustrates how to fine-tune an InceptionResnetV1 model on your own dataset. This will mostly follow standard pytorch training patterns."
   ]
  },
  {
   "cell_type": "code",
   "execution_count": 61,
   "metadata": {},
   "outputs": [
    {
     "name": "stdout",
     "output_type": "stream",
     "text": [
      "Requirement already satisfied: facenet_pytorch in c:\\users\\tyler\\anaconda3\\envs\\cs545condaenv\\lib\\site-packages (2.5.3)\n",
      "Requirement already satisfied: numpy in c:\\users\\tyler\\anaconda3\\envs\\cs545condaenv\\lib\\site-packages (from facenet_pytorch) (1.24.3)\n",
      "Requirement already satisfied: requests in c:\\users\\tyler\\anaconda3\\envs\\cs545condaenv\\lib\\site-packages (from facenet_pytorch) (2.31.0)\n",
      "Requirement already satisfied: torchvision in c:\\users\\tyler\\anaconda3\\envs\\cs545condaenv\\lib\\site-packages (from facenet_pytorch) (0.18.0)\n",
      "Requirement already satisfied: pillow in c:\\users\\tyler\\anaconda3\\envs\\cs545condaenv\\lib\\site-packages (from facenet_pytorch) (10.0.1)\n",
      "Requirement already satisfied: charset-normalizer<4,>=2 in c:\\users\\tyler\\anaconda3\\envs\\cs545condaenv\\lib\\site-packages (from requests->facenet_pytorch) (3.3.2)\n",
      "Requirement already satisfied: idna<4,>=2.5 in c:\\users\\tyler\\anaconda3\\envs\\cs545condaenv\\lib\\site-packages (from requests->facenet_pytorch) (3.6)\n",
      "Requirement already satisfied: urllib3<3,>=1.21.1 in c:\\users\\tyler\\anaconda3\\envs\\cs545condaenv\\lib\\site-packages (from requests->facenet_pytorch) (2.1.0)\n",
      "Requirement already satisfied: certifi>=2017.4.17 in c:\\users\\tyler\\anaconda3\\envs\\cs545condaenv\\lib\\site-packages (from requests->facenet_pytorch) (2023.11.17)\n",
      "Requirement already satisfied: torch==2.3.0 in c:\\users\\tyler\\anaconda3\\envs\\cs545condaenv\\lib\\site-packages (from torchvision->facenet_pytorch) (2.3.0)\n",
      "Requirement already satisfied: filelock in c:\\users\\tyler\\anaconda3\\envs\\cs545condaenv\\lib\\site-packages (from torch==2.3.0->torchvision->facenet_pytorch) (3.13.4)\n",
      "Requirement already satisfied: typing-extensions>=4.8.0 in c:\\users\\tyler\\anaconda3\\envs\\cs545condaenv\\lib\\site-packages (from torch==2.3.0->torchvision->facenet_pytorch) (4.9.0)\n",
      "Requirement already satisfied: sympy in c:\\users\\tyler\\anaconda3\\envs\\cs545condaenv\\lib\\site-packages (from torch==2.3.0->torchvision->facenet_pytorch) (1.12)\n",
      "Requirement already satisfied: networkx in c:\\users\\tyler\\anaconda3\\envs\\cs545condaenv\\lib\\site-packages (from torch==2.3.0->torchvision->facenet_pytorch) (3.3)\n",
      "Requirement already satisfied: jinja2 in c:\\users\\tyler\\anaconda3\\envs\\cs545condaenv\\lib\\site-packages (from torch==2.3.0->torchvision->facenet_pytorch) (3.1.3)\n",
      "Requirement already satisfied: fsspec in c:\\users\\tyler\\anaconda3\\envs\\cs545condaenv\\lib\\site-packages (from torch==2.3.0->torchvision->facenet_pytorch) (2023.12.2)\n",
      "Requirement already satisfied: mkl<=2021.4.0,>=2021.1.1 in c:\\users\\tyler\\anaconda3\\envs\\cs545condaenv\\lib\\site-packages (from torch==2.3.0->torchvision->facenet_pytorch) (2021.4.0)\n",
      "Requirement already satisfied: intel-openmp==2021.* in c:\\users\\tyler\\anaconda3\\envs\\cs545condaenv\\lib\\site-packages (from mkl<=2021.4.0,>=2021.1.1->torch==2.3.0->torchvision->facenet_pytorch) (2021.4.0)\n",
      "Requirement already satisfied: tbb==2021.* in c:\\users\\tyler\\anaconda3\\envs\\cs545condaenv\\lib\\site-packages (from mkl<=2021.4.0,>=2021.1.1->torch==2.3.0->torchvision->facenet_pytorch) (2021.12.0)\n",
      "Requirement already satisfied: MarkupSafe>=2.0 in c:\\users\\tyler\\anaconda3\\envs\\cs545condaenv\\lib\\site-packages (from jinja2->torch==2.3.0->torchvision->facenet_pytorch) (2.1.3)\n",
      "Requirement already satisfied: mpmath>=0.19 in c:\\users\\tyler\\anaconda3\\envs\\cs545condaenv\\lib\\site-packages (from sympy->torch==2.3.0->torchvision->facenet_pytorch) (1.3.0)\n",
      "Note: you may need to restart the kernel to use updated packages.\n"
     ]
    }
   ],
   "source": [
    "%pip install facenet_pytorch"
   ]
  },
  {
   "cell_type": "code",
   "execution_count": 62,
   "metadata": {},
   "outputs": [],
   "source": [
    "from facenet_pytorch import MTCNN, InceptionResnetV1, fixed_image_standardization, training\n",
    "import torch\n",
    "from torch.utils.data import DataLoader, SubsetRandomSampler\n",
    "from torch import optim\n",
    "from torch.optim.lr_scheduler import MultiStepLR\n",
    "from torch.utils.tensorboard import SummaryWriter\n",
    "from torchvision import datasets, transforms\n",
    "import numpy as np\n",
    "import os"
   ]
  },
  {
   "cell_type": "markdown",
   "metadata": {},
   "source": [
    "#### Define run parameters\n",
    "\n",
    "The dataset should follow the VGGFace2/ImageNet-style directory layout. Modify `data_dir` to the location of the dataset on wish to finetune on."
   ]
  },
  {
   "cell_type": "code",
   "execution_count": 63,
   "metadata": {},
   "outputs": [],
   "source": [
    "data_dir = 'C:\\\\Users\\\\tyler\\\\OneDrive\\\\Documents\\\\FaceAugment\\\\images'\n",
    "\n",
    "batch_size = 32\n",
    "epochs = 8\n",
    "workers = 0 if os.name == 'nt' else 4 # 8"
   ]
  },
  {
   "cell_type": "markdown",
   "metadata": {},
   "source": [
    "#### Determine if an nvidia GPU is available"
   ]
  },
  {
   "cell_type": "code",
   "execution_count": 64,
   "metadata": {},
   "outputs": [
    {
     "name": "stdout",
     "output_type": "stream",
     "text": [
      "Running on device: cpu\n"
     ]
    }
   ],
   "source": [
    "device = torch.device('cuda:0' if torch.cuda.is_available() else 'cpu')\n",
    "print('Running on device: {}'.format(device))"
   ]
  },
  {
   "cell_type": "markdown",
   "metadata": {},
   "source": [
    "#### Define MTCNN module\n",
    "\n",
    "See `help(MTCNN)` for more details."
   ]
  },
  {
   "cell_type": "code",
   "execution_count": 66,
   "metadata": {},
   "outputs": [],
   "source": [
    "mtcnn = MTCNN(\n",
    "    image_size=160, margin=0, min_face_size=20,\n",
    "    thresholds=[0.6, 0.7, 0.7], factor=0.709, post_process=True,\n",
    "    device=device\n",
    ")"
   ]
  },
  {
   "cell_type": "markdown",
   "metadata": {},
   "source": [
    "#### Perfom MTCNN facial detection\n",
    "\n",
    "Iterate through the DataLoader object and obtain cropped faces."
   ]
  },
  {
   "cell_type": "code",
   "execution_count": 57,
   "metadata": {},
   "outputs": [
    {
     "name": "stdout",
     "output_type": "stream",
     "text": [
      "The autoreload extension is already loaded. To reload it, use:\n",
      "  %reload_ext autoreload\n"
     ]
    }
   ],
   "source": [
    "%load_ext autoreload\n",
    "%autoreload 2"
   ]
  },
  {
   "cell_type": "code",
   "execution_count": 67,
   "metadata": {
    "scrolled": true
   },
   "outputs": [
    {
     "name": "stdout",
     "output_type": "stream",
     "text": [
      "Batch 124 of 124"
     ]
    }
   ],
   "source": [
    "dataset = datasets.ImageFolder(data_dir, transform=transforms.Resize((512, 512)))\n",
    "dataset.idx_to_class = {i:c for c, i in dataset.class_to_idx.items()}\n",
    "dataset.samples = [\n",
    "    (p, p.replace(data_dir, data_dir + '_cropped'))\n",
    "        for p, _ in dataset.samples\n",
    "]\n",
    "\n",
    "# loader = DataLoader(\n",
    "#     dataset,\n",
    "#     num_workers=workers,\n",
    "#     batch_size=batch_size,\n",
    "#     collate_fn=training.collate_pil\n",
    "# )\n",
    "loader = DataLoader(dataset, collate_fn=training.collate_pil, num_workers=workers)\n",
    "\n",
    "# x: image object\n",
    "# y: save path of corresponding object\n",
    "for i, (x, y) in enumerate(loader):\n",
    "    mtcnn(x, save_path=y)\n",
    "    print('\\rBatch {} of {}'.format(i + 1, len(loader)), end='')\n",
    "    \n",
    "# Remove mtcnn to reduce GPU memory usage\n",
    "del mtcnn"
   ]
  },
  {
   "cell_type": "markdown",
   "metadata": {},
   "source": [
    "#### Define Inception Resnet V1 module\n",
    "\n",
    "See `help(InceptionResnetV1)` for more details."
   ]
  },
  {
   "cell_type": "code",
   "execution_count": 68,
   "metadata": {},
   "outputs": [
    {
     "name": "stderr",
     "output_type": "stream",
     "text": [
      "100%|██████████| 107M/107M [00:04<00:00, 26.2MB/s] \n"
     ]
    }
   ],
   "source": [
    "resnet = InceptionResnetV1(\n",
    "    classify=True,\n",
    "    pretrained='vggface2',\n",
    "    num_classes=len(dataset.class_to_idx)\n",
    ").to(device)"
   ]
  },
  {
   "cell_type": "markdown",
   "metadata": {},
   "source": [
    "#### Define optimizer, scheduler, dataset, and dataloader"
   ]
  },
  {
   "cell_type": "code",
   "execution_count": 90,
   "metadata": {},
   "outputs": [],
   "source": [
    "optimizer = optim.Adam(resnet.parameters(), lr=0.001)\n",
    "scheduler = MultiStepLR(optimizer, [5, 10])\n",
    "\n",
    "trans = transforms.Compose([\n",
    "    np.float32,\n",
    "    transforms.ToTensor(),\n",
    "    fixed_image_standardization\n",
    "])\n",
    "dataset = datasets.ImageFolder(data_dir + '_cropped', transform=trans)\n",
    "img_inds = np.arange(len(dataset))\n",
    "np.random.shuffle(img_inds)\n",
    "train_inds = img_inds[:int(0.8 * len(img_inds))]\n",
    "val_inds = img_inds[int(0.8 * len(img_inds)):]\n",
    "\n",
    "train_loader = DataLoader(\n",
    "    dataset,\n",
    "    num_workers=workers,\n",
    "    batch_size=batch_size,\n",
    "    sampler=SubsetRandomSampler(train_inds)\n",
    ")\n",
    "val_loader = DataLoader(\n",
    "    dataset,\n",
    "    num_workers=workers,\n",
    "    batch_size=batch_size,\n",
    "    sampler=SubsetRandomSampler(val_inds)\n",
    ")"
   ]
  },
  {
   "cell_type": "markdown",
   "metadata": {},
   "source": [
    "#### Define loss and evaluation functions"
   ]
  },
  {
   "cell_type": "code",
   "execution_count": 91,
   "metadata": {},
   "outputs": [],
   "source": [
    "loss_fn = torch.nn.CrossEntropyLoss()\n",
    "metrics = {\n",
    "    'fps': training.BatchTimer(),\n",
    "    'acc': training.accuracy\n",
    "}"
   ]
  },
  {
   "cell_type": "markdown",
   "metadata": {},
   "source": [
    "#### Train model"
   ]
  },
  {
   "cell_type": "code",
   "execution_count": 92,
   "metadata": {},
   "outputs": [],
   "source": [
    "for i_batch, (x, y) in enumerate(train_loader):\n",
    "    x = x.to(device)\n",
    "    y = y.to(device)\n",
    "    y_pred = resnet(x)\n",
    "    loss_batch = loss_fn(y_pred, y)"
   ]
  },
  {
   "cell_type": "code",
   "execution_count": 93,
   "metadata": {},
   "outputs": [
    {
     "name": "stdout",
     "output_type": "stream",
     "text": [
      "\n",
      "\n",
      "Initial\n",
      "----------\n",
      "Valid |     1/1    | loss:    0.0774 | fps:    2.8817 | acc:    1.0000   \n",
      "\n",
      "Epoch 1/8\n",
      "----------\n",
      "Train |     3/3    | loss:    0.8435 | fps:   13.2214 | acc:    0.8695   \n",
      "Valid |     1/1    | loss:   11.0637 | fps:   36.1552 | acc:    0.3636   \n",
      "\n",
      "Epoch 2/8\n",
      "----------\n",
      "Train |     3/3    | loss:    0.5062 | fps:   13.5354 | acc:    0.8586   \n",
      "Valid |     1/1    | loss:    4.7704 | fps:   38.9916 | acc:    0.5455   \n",
      "\n",
      "Epoch 3/8\n",
      "----------\n",
      "Train |     3/3    | loss:    0.4620 | fps:   14.2257 | acc:    0.8690   \n",
      "Valid |     1/1    | loss:    0.7937 | fps:   39.6157 | acc:    0.8636   \n",
      "\n",
      "Epoch 4/8\n",
      "----------\n",
      "Train |     3/3    | loss:    0.2116 | fps:   14.0009 | acc:    0.9058   \n",
      "Valid |     1/1    | loss:    0.9029 | fps:   40.5164 | acc:    0.9091   \n",
      "\n",
      "Epoch 5/8\n",
      "----------\n",
      "Train |     3/3    | loss:    0.3260 | fps:   11.9435 | acc:    0.9053   \n",
      "Valid |     1/1    | loss:    0.8125 | fps:   29.3432 | acc:    0.8182   \n",
      "\n",
      "Epoch 6/8\n",
      "----------\n",
      "Train |     3/3    | loss:    0.1310 | fps:   12.3867 | acc:    0.9578   \n",
      "Valid |     1/1    | loss:    0.3916 | fps:   36.6962 | acc:    0.9091   \n",
      "\n",
      "Epoch 7/8\n",
      "----------\n",
      "Train |     3/3    | loss:    0.1244 | fps:   12.2850 | acc:    0.9633   \n",
      "Valid |     1/1    | loss:    0.3494 | fps:   36.3468 | acc:    0.9091   \n",
      "\n",
      "Epoch 8/8\n",
      "----------\n",
      "Train |     3/3    | loss:    0.0872 | fps:   11.0879 | acc:    0.9737   \n",
      "Valid |     1/1    | loss:    0.3449 | fps:   27.4055 | acc:    0.9091   \n"
     ]
    }
   ],
   "source": [
    "writer = SummaryWriter()\n",
    "writer.iteration, writer.interval = 0, 10\n",
    "\n",
    "print('\\n\\nInitial')\n",
    "print('-' * 10)\n",
    "resnet.eval()\n",
    "training.pass_epoch(\n",
    "    resnet, loss_fn, val_loader,\n",
    "    batch_metrics=metrics, show_running=True, device=device,\n",
    "    writer=writer\n",
    ")\n",
    "\n",
    "for epoch in range(epochs):\n",
    "    print('\\nEpoch {}/{}'.format(epoch + 1, epochs))\n",
    "    print('-' * 10)\n",
    "\n",
    "    resnet.train()\n",
    "    training.pass_epoch(\n",
    "        resnet, loss_fn, train_loader, optimizer, scheduler,\n",
    "        batch_metrics=metrics, show_running=True, device=device,\n",
    "        writer=writer\n",
    "    )\n",
    "\n",
    "    resnet.eval()\n",
    "    training.pass_epoch(\n",
    "        resnet, loss_fn, val_loader,\n",
    "        batch_metrics=metrics, show_running=True, device=device,\n",
    "        writer=writer\n",
    "    )\n",
    "\n",
    "writer.close()"
   ]
  }
 ],
 "metadata": {
  "kernelspec": {
   "display_name": "Python 3",
   "language": "python",
   "name": "python3"
  },
  "language_info": {
   "codemirror_mode": {
    "name": "ipython",
    "version": 3
   },
   "file_extension": ".py",
   "mimetype": "text/x-python",
   "name": "python",
   "nbconvert_exporter": "python",
   "pygments_lexer": "ipython3",
   "version": "3.10.13"
  }
 },
 "nbformat": 4,
 "nbformat_minor": 2
}
