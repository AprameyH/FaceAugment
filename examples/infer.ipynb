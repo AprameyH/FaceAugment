{
 "cells": [
  {
   "cell_type": "markdown",
   "metadata": {},
   "source": [
    "# Face detection and recognition inference pipeline\n",
    "\n",
    "The following example illustrates how to use the `facenet_pytorch` python package to perform face detection and recogition on an image dataset using an Inception Resnet V1 pretrained on the VGGFace2 dataset.\n",
    "\n",
    "The following Pytorch methods are included:\n",
    "* Datasets\n",
    "* Dataloaders\n",
    "* GPU/CPU processing"
   ]
  },
  {
   "cell_type": "code",
   "execution_count": 1,
   "metadata": {},
   "outputs": [
    {
     "name": "stderr",
     "output_type": "stream",
     "text": [
      "d:\\mamba\\envs\\default\\Lib\\site-packages\\tqdm\\auto.py:21: TqdmWarning: IProgress not found. Please update jupyter and ipywidgets. See https://ipywidgets.readthedocs.io/en/stable/user_install.html\n",
      "  from .autonotebook import tqdm as notebook_tqdm\n"
     ]
    }
   ],
   "source": [
    "from facenet_pytorch import MTCNN, InceptionResnetV1\n",
    "import torch\n",
    "from torch.utils.data import DataLoader\n",
    "from torchvision import datasets\n",
    "import numpy as np\n",
    "import pandas as pd\n",
    "import os\n",
    "\n",
    "workers = 0 if os.name == 'nt' else 4"
   ]
  },
  {
   "cell_type": "markdown",
   "metadata": {},
   "source": [
    "#### Determine if an nvidia GPU is available"
   ]
  },
  {
   "cell_type": "code",
   "execution_count": 2,
   "metadata": {},
   "outputs": [
    {
     "name": "stdout",
     "output_type": "stream",
     "text": [
      "Running on device: cuda:0\n"
     ]
    }
   ],
   "source": [
    "device = torch.device('cuda:0' if torch.cuda.is_available() else 'cpu')\n",
    "print('Running on device: {}'.format(device))"
   ]
  },
  {
   "cell_type": "markdown",
   "metadata": {},
   "source": [
    "#### Define MTCNN module\n",
    "\n",
    "Default params shown for illustration, but not needed. Note that, since MTCNN is a collection of neural nets and other code, the device must be passed in the following way to enable copying of objects when needed internally.\n",
    "\n",
    "See `help(MTCNN)` for more details."
   ]
  },
  {
   "cell_type": "code",
   "execution_count": 3,
   "metadata": {},
   "outputs": [],
   "source": [
    "mtcnn = MTCNN(\n",
    "    image_size=160, margin=0, min_face_size=20,\n",
    "    thresholds=[0.6, 0.7, 0.7], factor=0.709, post_process=True,\n",
    "    device=device\n",
    ")"
   ]
  },
  {
   "cell_type": "markdown",
   "metadata": {},
   "source": [
    "#### Define Inception Resnet V1 module\n",
    "\n",
    "Set classify=True for pretrained classifier. For this example, we will use the model to output embeddings/CNN features. Note that for inference, it is important to set the model to `eval` mode.\n",
    "\n",
    "See `help(InceptionResnetV1)` for more details."
   ]
  },
  {
   "cell_type": "code",
   "execution_count": 4,
   "metadata": {},
   "outputs": [],
   "source": [
    "resnet = InceptionResnetV1(pretrained='vggface2').eval().to(device)"
   ]
  },
  {
   "cell_type": "markdown",
   "metadata": {},
   "source": [
    "#### Define a dataset and data loader\n",
    "\n",
    "We add the `idx_to_class` attribute to the dataset to enable easy recoding of label indices to identity names later one."
   ]
  },
  {
   "cell_type": "code",
   "execution_count": 22,
   "metadata": {},
   "outputs": [],
   "source": [
    "def collate_fn(x):\n",
    "    return x[0]\n",
    "\n",
    "dataset = datasets.ImageFolder('../images')\n",
    "dataset.idx_to_class = {i:c for c, i in dataset.class_to_idx.items()}\n",
    "loader = DataLoader(dataset, collate_fn=collate_fn, num_workers=workers)"
   ]
  },
  {
   "cell_type": "code",
   "execution_count": 11,
   "metadata": {},
   "outputs": [
    {
     "data": {
      "text/plain": [
       "(<PIL.Image.Image image mode=RGB size=2133x3200>, 0)"
      ]
     },
     "execution_count": 11,
     "metadata": {},
     "output_type": "execute_result"
    }
   ],
   "source": []
  },
  {
   "cell_type": "code",
   "execution_count": 23,
   "metadata": {},
   "outputs": [
    {
     "data": {
      "text/plain": [
       "{0: 'KanyeWest',\n",
       " 1: 'MargotRobbie',\n",
       " 2: 'PrinceHarry',\n",
       " 3: 'TomHolland',\n",
       " 4: 'angelina_jolie',\n",
       " 5: 'bradley_cooper',\n",
       " 6: 'kate_siegel',\n",
       " 7: 'paul_rudd',\n",
       " 8: 'shea_whigham'}"
      ]
     },
     "execution_count": 23,
     "metadata": {},
     "output_type": "execute_result"
    }
   ],
   "source": [
    "dataset.idx_to_class"
   ]
  },
  {
   "cell_type": "markdown",
   "metadata": {},
   "source": [
    "#### Perfom MTCNN facial detection\n",
    "\n",
    "Iterate through the DataLoader object and detect faces and associated detection probabilities for each. The `MTCNN` forward method returns images cropped to the detected face, if a face was detected. By default only a single detected face is returned - to have `MTCNN` return all detected faces, set `keep_all=True` when creating the MTCNN object above.\n",
    "\n",
    "To obtain bounding boxes rather than cropped face images, you can instead call the lower-level `mtcnn.detect()` function. See `help(mtcnn.detect)` for details."
   ]
  },
  {
   "cell_type": "code",
   "execution_count": 24,
   "metadata": {},
   "outputs": [
    {
     "name": "stdout",
     "output_type": "stream",
     "text": [
      "Face detected with probability: 1.000000\n",
      "Face detected with probability: 0.999670\n",
      "Face detected with probability: 0.999314\n",
      "Face detected with probability: 0.999936\n",
      "Face detected with probability: 0.999983\n",
      "Face detected with probability: 0.999934\n",
      "Face detected with probability: 0.999733\n",
      "Face detected with probability: 0.999876\n",
      "Face detected with probability: 0.999992\n"
     ]
    }
   ],
   "source": [
    "aligned = []\n",
    "names = []\n",
    "# only get one image per person\n",
    "people = set()\n",
    "for x, y in loader:\n",
    "    person = dataset.idx_to_class[y]\n",
    "    if person in people:\n",
    "        continue\n",
    "    people.add(person)\n",
    "    x_aligned, prob = mtcnn(x, return_prob=True)\n",
    "    if x_aligned is not None:\n",
    "        print('Face detected with probability: {:8f}'.format(prob))\n",
    "        aligned.append(x_aligned)\n",
    "        names.append(dataset.idx_to_class[y])"
   ]
  },
  {
   "cell_type": "code",
   "execution_count": 2,
   "metadata": {},
   "outputs": [
    {
     "name": "stdout",
     "output_type": "stream",
     "text": [
      "[]\n"
     ]
    }
   ],
   "source": [
    "# loop over all files in the images folder\n",
    "import PIL\n",
    "from PIL import Image\n",
    "image_folder_path = '../images'\n",
    "corrupted_files = []\n",
    "# loop over all files in the images folder including subdirectories\n",
    "for root, dirs, files in os.walk(image_folder_path):\n",
    "    for file in files:\n",
    "      try:\n",
    "        image = Image.open(os.path.join(root, file))\n",
    "      except PIL.UnidentifiedImageError as e:\n",
    "        corrupted_files.append(os.path.join(root, file))\n",
    "print(corrupted_files)"
   ]
  },
  {
   "cell_type": "markdown",
   "metadata": {},
   "source": [
    "#### Calculate image embeddings\n",
    "\n",
    "MTCNN will return images of faces all the same size, enabling easy batch processing with the Resnet recognition module. Here, since we only have a few images, we build a single batch and perform inference on it. \n",
    "\n",
    "For real datasets, code should be modified to control batch sizes being passed to the Resnet, particularly if being processed on a GPU. For repeated testing, it is best to separate face detection (using MTCNN) from embedding or classification (using InceptionResnetV1), as calculation of cropped faces or bounding boxes can then be performed a single time and detected faces saved for future use."
   ]
  },
  {
   "cell_type": "code",
   "execution_count": 25,
   "metadata": {},
   "outputs": [],
   "source": [
    "aligned = torch.stack(aligned).to(device)\n",
    "embeddings = resnet(aligned).detach().cpu()"
   ]
  },
  {
   "cell_type": "markdown",
   "metadata": {},
   "source": [
    "#### Print distance matrix for classes"
   ]
  },
  {
   "cell_type": "code",
   "execution_count": 26,
   "metadata": {},
   "outputs": [
    {
     "data": {
      "text/plain": [
       "['KanyeWest',\n",
       " 'MargotRobbie',\n",
       " 'PrinceHarry',\n",
       " 'TomHolland',\n",
       " 'angelina_jolie',\n",
       " 'bradley_cooper',\n",
       " 'kate_siegel',\n",
       " 'paul_rudd',\n",
       " 'shea_whigham']"
      ]
     },
     "execution_count": 26,
     "metadata": {},
     "output_type": "execute_result"
    }
   ],
   "source": [
    "names"
   ]
  },
  {
   "cell_type": "code",
   "execution_count": 27,
   "metadata": {},
   "outputs": [
    {
     "name": "stdout",
     "output_type": "stream",
     "text": [
      "                KanyeWest  MargotRobbie  PrinceHarry  TomHolland  \\\n",
      "KanyeWest        0.000000      1.464733     1.477928    1.648029   \n",
      "MargotRobbie     1.464733      0.000000     1.477447    1.494487   \n",
      "PrinceHarry      1.477928      1.477447     0.000000    1.467718   \n",
      "TomHolland       1.648029      1.494487     1.467718    0.000000   \n",
      "angelina_jolie   1.526968      1.013688     1.326358    1.454472   \n",
      "bradley_cooper   1.584339      1.365534     1.240440    1.428000   \n",
      "kate_siegel      1.511385      1.086190     1.342529    1.460030   \n",
      "paul_rudd        1.482957      1.547630     1.387526    1.448142   \n",
      "shea_whigham     1.374122      1.324691     1.362363    1.501615   \n",
      "\n",
      "                angelina_jolie  bradley_cooper  kate_siegel  paul_rudd  \\\n",
      "KanyeWest             1.526968        1.584339     1.511385   1.482957   \n",
      "MargotRobbie          1.013688        1.365534     1.086190   1.547630   \n",
      "PrinceHarry           1.326358        1.240440     1.342529   1.387526   \n",
      "TomHolland            1.454472        1.428000     1.460030   1.448142   \n",
      "angelina_jolie        0.000000        1.447480     0.887727   1.434377   \n",
      "bradley_cooper        1.447480        0.000000     1.313748   1.011981   \n",
      "kate_siegel           0.887727        1.313748     0.000000   1.388993   \n",
      "paul_rudd             1.434377        1.011981     1.388993   0.000000   \n",
      "shea_whigham          1.399073        1.038684     1.379654   1.104095   \n",
      "\n",
      "                shea_whigham  \n",
      "KanyeWest           1.374122  \n",
      "MargotRobbie        1.324691  \n",
      "PrinceHarry         1.362363  \n",
      "TomHolland          1.501615  \n",
      "angelina_jolie      1.399073  \n",
      "bradley_cooper      1.038684  \n",
      "kate_siegel         1.379654  \n",
      "paul_rudd           1.104095  \n",
      "shea_whigham        0.000000  \n"
     ]
    }
   ],
   "source": [
    "dists = [[(e1 - e2).norm().item() for e2 in embeddings] for e1 in embeddings]\n",
    "print(pd.DataFrame(dists, columns=names, index=names))"
   ]
  }
 ],
 "metadata": {
  "kernelspec": {
   "display_name": "Python 3",
   "language": "python",
   "name": "python3"
  },
  "language_info": {
   "codemirror_mode": {
    "name": "ipython",
    "version": 3
   },
   "file_extension": ".py",
   "mimetype": "text/x-python",
   "name": "python",
   "nbconvert_exporter": "python",
   "pygments_lexer": "ipython3",
   "version": "3.11.4"
  }
 },
 "nbformat": 4,
 "nbformat_minor": 2
}
