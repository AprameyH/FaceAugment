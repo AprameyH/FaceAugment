{
 "cells": [
  {
   "cell_type": "markdown",
   "metadata": {},
   "source": [
    "# Face detection and recognition inference pipeline\n",
    "\n",
    "The following example illustrates how to use the `facenet_pytorch` python package to perform face detection and recogition on an image dataset using an Inception Resnet V1 pretrained on the VGGFace2 dataset.\n",
    "\n",
    "The following Pytorch methods are included:\n",
    "* Datasets\n",
    "* Dataloaders\n",
    "* GPU/CPU processing"
   ]
  },
  {
   "cell_type": "code",
   "execution_count": 137,
   "metadata": {},
   "outputs": [],
   "source": [
    "from facenet_pytorch import MTCNN, InceptionResnetV1, training\n",
    "import torch\n",
    "from torch.utils.data import DataLoader\n",
    "from torchvision import datasets\n",
    "import numpy as np\n",
    "import pandas as pd\n",
    "import os\n",
    "\n",
    "workers = 0 if os.name == 'nt' else 4"
   ]
  },
  {
   "cell_type": "markdown",
   "metadata": {},
   "source": [
    "#### Determine if an nvidia GPU is available"
   ]
  },
  {
   "cell_type": "code",
   "execution_count": 114,
   "metadata": {},
   "outputs": [
    {
     "name": "stdout",
     "output_type": "stream",
     "text": [
      "Running on device: cuda:0\n"
     ]
    }
   ],
   "source": [
    "device = torch.device('cuda:0' if torch.cuda.is_available() else 'cpu')\n",
    "print('Running on device: {}'.format(device))"
   ]
  },
  {
   "cell_type": "markdown",
   "metadata": {},
   "source": [
    "#### Define MTCNN module\n",
    "\n",
    "Default params shown for illustration, but not needed. Note that, since MTCNN is a collection of neural nets and other code, the device must be passed in the following way to enable copying of objects when needed internally.\n",
    "\n",
    "See `help(MTCNN)` for more details."
   ]
  },
  {
   "cell_type": "code",
   "execution_count": 115,
   "metadata": {},
   "outputs": [],
   "source": [
    "mtcnn = MTCNN(\n",
    "    image_size=160, margin=0, min_face_size=20,\n",
    "    thresholds=[0.6, 0.7, 0.7], factor=0.709, post_process=True,\n",
    "    device=device\n",
    ")"
   ]
  },
  {
   "cell_type": "markdown",
   "metadata": {},
   "source": [
    "#### Define Inception Resnet V1 module\n",
    "\n",
    "Set classify=True for pretrained classifier. For this example, we will use the model to output embeddings/CNN features. Note that for inference, it is important to set the model to `eval` mode.\n",
    "\n",
    "See `help(InceptionResnetV1)` for more details."
   ]
  },
  {
   "cell_type": "code",
   "execution_count": 116,
   "metadata": {},
   "outputs": [
    {
     "name": "stderr",
     "output_type": "stream",
     "text": [
      "100%|██████████| 111M/111M [00:02<00:00, 46.4MB/s] \n"
     ]
    }
   ],
   "source": [
    "resnet = InceptionResnetV1(pretrained='casia-webface').eval().to(device)"
   ]
  },
  {
   "cell_type": "markdown",
   "metadata": {},
   "source": [
    "#### Define a dataset and data loader\n",
    "\n",
    "We add the `idx_to_class` attribute to the dataset to enable easy recoding of label indices to identity names later one."
   ]
  },
  {
   "cell_type": "code",
   "execution_count": 138,
   "metadata": {},
   "outputs": [],
   "source": [
    "dataset = datasets.ImageFolder('../images')\n",
    "dataset.idx_to_class = {i:c for c, i in dataset.class_to_idx.items()}\n",
    "loader = DataLoader(dataset, collate_fn=training.collate_pil, num_workers=workers)"
   ]
  },
  {
   "cell_type": "code",
   "execution_count": 139,
   "metadata": {},
   "outputs": [
    {
     "data": {
      "text/plain": [
       "{0: 'JackHarlow',\n",
       " 1: 'KanyeWest',\n",
       " 2: 'MargotRobbie',\n",
       " 3: 'PrinceHarry',\n",
       " 4: 'TomHolland',\n",
       " 5: 'angelina_jolie',\n",
       " 6: 'bradley_cooper',\n",
       " 7: 'kate_siegel',\n",
       " 8: 'paul_rudd',\n",
       " 9: 'shea_whigham'}"
      ]
     },
     "execution_count": 139,
     "metadata": {},
     "output_type": "execute_result"
    }
   ],
   "source": [
    "dataset.idx_to_class"
   ]
  },
  {
   "cell_type": "markdown",
   "metadata": {},
   "source": [
    "#### Perfom MTCNN facial detection\n",
    "\n",
    "Iterate through the DataLoader object and detect faces and associated detection probabilities for each. The `MTCNN` forward method returns images cropped to the detected face, if a face was detected. By default only a single detected face is returned - to have `MTCNN` return all detected faces, set `keep_all=True` when creating the MTCNN object above.\n",
    "\n",
    "To obtain bounding boxes rather than cropped face images, you can instead call the lower-level `mtcnn.detect()` function. See `help(mtcnn.detect)` for details."
   ]
  },
  {
   "cell_type": "code",
   "execution_count": 140,
   "metadata": {},
   "outputs": [
    {
     "ename": "TypeError",
     "evalue": "unhashable type: 'list'",
     "output_type": "error",
     "traceback": [
      "\u001b[1;31m---------------------------------------------------------------------------\u001b[0m",
      "\u001b[1;31mTypeError\u001b[0m                                 Traceback (most recent call last)",
      "Cell \u001b[1;32mIn[140], line 6\u001b[0m\n\u001b[0;32m      3\u001b[0m \u001b[38;5;66;03m# only get one image per person\u001b[39;00m\n\u001b[0;32m      4\u001b[0m \u001b[38;5;66;03m# people = set()\u001b[39;00m\n\u001b[0;32m      5\u001b[0m \u001b[38;5;28;01mfor\u001b[39;00m x, y \u001b[38;5;129;01min\u001b[39;00m loader:\n\u001b[1;32m----> 6\u001b[0m     person \u001b[38;5;241m=\u001b[39m \u001b[43mdataset\u001b[49m\u001b[38;5;241;43m.\u001b[39;49m\u001b[43midx_to_class\u001b[49m\u001b[43m[\u001b[49m\u001b[43my\u001b[49m\u001b[43m]\u001b[49m\n\u001b[0;32m      7\u001b[0m     \u001b[38;5;66;03m# if person in people:\u001b[39;00m\n\u001b[0;32m      8\u001b[0m     \u001b[38;5;66;03m#     continue\u001b[39;00m\n\u001b[0;32m      9\u001b[0m     \u001b[38;5;66;03m# people.add(person)\u001b[39;00m\n\u001b[0;32m     10\u001b[0m     x_aligned, prob \u001b[38;5;241m=\u001b[39m mtcnn(x, return_prob\u001b[38;5;241m=\u001b[39m\u001b[38;5;28;01mTrue\u001b[39;00m)\n",
      "\u001b[1;31mTypeError\u001b[0m: unhashable type: 'list'"
     ]
    }
   ],
   "source": [
    "aligned = []\n",
    "names = []\n",
    "# only get one image per person\n",
    "# people = set()\n",
    "for x, y in loader:\n",
    "    person = dataset.idx_to_class[y]\n",
    "    # if person in people:\n",
    "    #     continue\n",
    "    # people.add(person)\n",
    "    x_aligned, prob = mtcnn(x, return_prob=True)\n",
    "    if x_aligned is not None:\n",
    "        #print('Face detected with probability: {:8f}'.format(prob))\n",
    "        aligned.append(x_aligned)\n",
    "        names.append(person)\n",
    "    else:\n",
    "        # print path of images that are not detected\n",
    "        print(f\"person not detection {person}\")"
   ]
  },
  {
   "cell_type": "code",
   "execution_count": 141,
   "metadata": {},
   "outputs": [
    {
     "name": "stdout",
     "output_type": "stream",
     "text": [
      "> \u001b[1;32mc:\\users\\anshu\\appdata\\local\\temp\\ipykernel_24388\\732504421.py\u001b[0m(6)\u001b[0;36m<module>\u001b[1;34m()\u001b[0m\n",
      "\n",
      "[0]\n",
      "\u001b[0;32m      1 \u001b[0m\u001b[0maligned\u001b[0m \u001b[1;33m=\u001b[0m \u001b[1;33m[\u001b[0m\u001b[1;33m]\u001b[0m\u001b[1;33m\u001b[0m\u001b[1;33m\u001b[0m\u001b[0m\n",
      "\u001b[0;32m      2 \u001b[0m\u001b[0mnames\u001b[0m \u001b[1;33m=\u001b[0m \u001b[1;33m[\u001b[0m\u001b[1;33m]\u001b[0m\u001b[1;33m\u001b[0m\u001b[1;33m\u001b[0m\u001b[0m\n",
      "\u001b[0;32m      3 \u001b[0m\u001b[1;31m# only get one image per person\u001b[0m\u001b[1;33m\u001b[0m\u001b[1;33m\u001b[0m\u001b[0m\n",
      "\u001b[0;32m      4 \u001b[0m\u001b[1;31m# people = set()\u001b[0m\u001b[1;33m\u001b[0m\u001b[1;33m\u001b[0m\u001b[0m\n",
      "\u001b[0;32m      5 \u001b[0m\u001b[1;32mfor\u001b[0m \u001b[0mx\u001b[0m\u001b[1;33m,\u001b[0m \u001b[0my\u001b[0m \u001b[1;32min\u001b[0m \u001b[0mloader\u001b[0m\u001b[1;33m:\u001b[0m\u001b[1;33m\u001b[0m\u001b[1;33m\u001b[0m\u001b[0m\n",
      "\u001b[1;32m----> 6 \u001b[1;33m    \u001b[0mperson\u001b[0m \u001b[1;33m=\u001b[0m \u001b[0mdataset\u001b[0m\u001b[1;33m.\u001b[0m\u001b[0midx_to_class\u001b[0m\u001b[1;33m[\u001b[0m\u001b[0my\u001b[0m\u001b[1;33m]\u001b[0m\u001b[1;33m\u001b[0m\u001b[1;33m\u001b[0m\u001b[0m\n",
      "\u001b[0m\u001b[0;32m      7 \u001b[0m    \u001b[1;31m# if person in people:\u001b[0m\u001b[1;33m\u001b[0m\u001b[1;33m\u001b[0m\u001b[0m\n",
      "\u001b[0;32m      8 \u001b[0m    \u001b[1;31m#     continue\u001b[0m\u001b[1;33m\u001b[0m\u001b[1;33m\u001b[0m\u001b[0m\n",
      "\u001b[0;32m      9 \u001b[0m    \u001b[1;31m# people.add(person)\u001b[0m\u001b[1;33m\u001b[0m\u001b[1;33m\u001b[0m\u001b[0m\n",
      "\u001b[0;32m     10 \u001b[0m    \u001b[0mx_aligned\u001b[0m\u001b[1;33m,\u001b[0m \u001b[0mprob\u001b[0m \u001b[1;33m=\u001b[0m \u001b[0mmtcnn\u001b[0m\u001b[1;33m(\u001b[0m\u001b[0mx\u001b[0m\u001b[1;33m,\u001b[0m \u001b[0mreturn_prob\u001b[0m\u001b[1;33m=\u001b[0m\u001b[1;32mTrue\u001b[0m\u001b[1;33m)\u001b[0m\u001b[1;33m\u001b[0m\u001b[1;33m\u001b[0m\u001b[0m\n",
      "\u001b[0;32m     11 \u001b[0m    \u001b[1;32mif\u001b[0m \u001b[0mx_aligned\u001b[0m \u001b[1;32mis\u001b[0m \u001b[1;32mnot\u001b[0m \u001b[1;32mNone\u001b[0m\u001b[1;33m:\u001b[0m\u001b[1;33m\u001b[0m\u001b[1;33m\u001b[0m\u001b[0m\n",
      "\n",
      "[0]\n"
     ]
    }
   ],
   "source": [
    "%debug\n"
   ]
  },
  {
   "cell_type": "code",
   "execution_count": 121,
   "metadata": {},
   "outputs": [],
   "source": [
    "# split up aligned images into batches\n",
    "aligned = torch.stack(aligned)\n",
    "aligned = torch.split(aligned, 32)\n",
    "# pass each batch through resnet\n",
    "embeddings = []\n",
    "for batch in aligned:\n",
    "    embeddings.extend(resnet(batch.to(device)).detach().cpu())"
   ]
  },
  {
   "cell_type": "code",
   "execution_count": 122,
   "metadata": {},
   "outputs": [],
   "source": [
    "# convert embeddings to numpy\n",
    "embeddings = torch.stack(embeddings).numpy()\n",
    "names = np.array(names)\n",
    "# save embeddings and names\n",
    "np.save('embeddings.npy', embeddings)\n",
    "np.save('names.npy', names)"
   ]
  },
  {
   "cell_type": "markdown",
   "metadata": {},
   "source": [
    "#### Calculate image embeddings\n",
    "\n",
    "MTCNN will return images of faces all the same size, enabling easy batch processing with the Resnet recognition module. Here, since we only have a few images, we build a single batch and perform inference on it. \n",
    "\n",
    "For real datasets, code should be modified to control batch sizes being passed to the Resnet, particularly if being processed on a GPU. For repeated testing, it is best to separate face detection (using MTCNN) from embedding or classification (using InceptionResnetV1), as calculation of cropped faces or bounding boxes can then be performed a single time and detected faces saved for future use."
   ]
  },
  {
   "cell_type": "code",
   "execution_count": 123,
   "metadata": {},
   "outputs": [],
   "source": [
    "import numpy as np\n",
    "from sklearn.metrics import roc_curve, auc\n",
    "\n",
    "class FacialVerifier:\n",
    "    def __init__(self, known_embeddings):\n",
    "        self.known_embeddings = known_embeddings\n",
    "    \n",
    "    def verify(self, unknown_embeddings, true_labels, name, thresholds):\n",
    "        distances = self._compute_distances(unknown_embeddings)\n",
    "        \n",
    "        # all true labels with name should be 1, all others should be 0\n",
    "        true_labels = np.array([1 if label == name else 0 for label in true_labels])\n",
    "     \n",
    "        fpr_list = []\n",
    "        tpr_list = []\n",
    "        \n",
    "        for threshold in thresholds:\n",
    "            predicted_labels = np.array(distances) <= threshold\n",
    "            \n",
    "            tp = np.sum((predicted_labels == 1) & (true_labels == 1))\n",
    "            fp = np.sum((predicted_labels == 1) & (true_labels == 0))\n",
    "            tn = np.sum((predicted_labels == 0) & (true_labels == 0))\n",
    "            fn = np.sum((predicted_labels == 0) & (true_labels == 1))\n",
    "            \n",
    "            fpr = fp / (fp + tn)\n",
    "            tpr = tp / (tp + fn)\n",
    "            \n",
    "            fpr_list.append(fpr)\n",
    "            tpr_list.append(tpr)\n",
    "            \n",
    "            accuracy = (tp + tn) / len(unknown_embeddings)\n",
    "            print(f\"Threshold: {threshold:.2f}, Accuracy: {accuracy:.2f}, FPR: {fpr:.2f}, TPR: {tpr:.2f}\")\n",
    "        return fpr_list, tpr_list\n",
    "    \n",
    "    def _compute_distances(self, unknown_embeddings):\n",
    "        distances = []\n",
    "        for embedding in unknown_embeddings:\n",
    "            min_distance = float('inf')\n",
    "            for known_embedding in self.known_embeddings:\n",
    "                distance = np.linalg.norm(embedding - known_embedding)\n",
    "                min_distance = min(min_distance, distance)\n",
    "            distances.append(min_distance)\n",
    "        return distances\n",
    "    \n",
    "    def _compute_accuracy(self, distances, true_labels, threshold):\n",
    "        predicted_labels = np.array(distances) <= threshold\n",
    "        accuracy = np.mean(predicted_labels == true_labels)\n",
    "        return accuracy\n",
    "    \n",
    "    def compute_auc(self, fpr_list, tpr_list):\n",
    "        auc = np.trapz(tpr_list, fpr_list)\n",
    "        return auc\n"
   ]
  },
  {
   "cell_type": "code",
   "execution_count": 135,
   "metadata": {},
   "outputs": [
    {
     "name": "stdout",
     "output_type": "stream",
     "text": [
      "Threshold: 0.00, Accuracy: 0.84, FPR: 0.00, TPR: 0.05\n",
      "Threshold: 0.10, Accuracy: 0.84, FPR: 0.00, TPR: 0.05\n",
      "Threshold: 0.20, Accuracy: 0.84, FPR: 0.00, TPR: 0.05\n",
      "Threshold: 0.30, Accuracy: 0.84, FPR: 0.00, TPR: 0.05\n",
      "Threshold: 0.40, Accuracy: 0.84, FPR: 0.00, TPR: 0.05\n",
      "Threshold: 0.50, Accuracy: 0.85, FPR: 0.00, TPR: 0.10\n",
      "Threshold: 0.60, Accuracy: 0.85, FPR: 0.00, TPR: 0.10\n",
      "Threshold: 0.70, Accuracy: 0.85, FPR: 0.00, TPR: 0.14\n",
      "Threshold: 0.80, Accuracy: 0.90, FPR: 0.00, TPR: 0.43\n",
      "Threshold: 0.90, Accuracy: 0.98, FPR: 0.00, TPR: 0.86\n",
      "Threshold: 1.00, Accuracy: 1.00, FPR: 0.00, TPR: 1.00\n",
      "Threshold: 1.10, Accuracy: 1.00, FPR: 0.00, TPR: 1.00\n",
      "Threshold: 1.20, Accuracy: 1.00, FPR: 0.00, TPR: 1.00\n",
      "Threshold: 1.30, Accuracy: 0.98, FPR: 0.02, TPR: 1.00\n",
      "Threshold: 1.40, Accuracy: 0.78, FPR: 0.26, TPR: 1.00\n",
      "Threshold: 1.50, Accuracy: 0.29, FPR: 0.85, TPR: 1.00\n",
      "Threshold: 1.60, Accuracy: 0.17, FPR: 1.00, TPR: 1.00\n",
      "Threshold: 1.70, Accuracy: 0.17, FPR: 1.00, TPR: 1.00\n",
      "Threshold: 1.80, Accuracy: 0.17, FPR: 1.00, TPR: 1.00\n",
      "Threshold: 1.90, Accuracy: 0.17, FPR: 1.00, TPR: 1.00\n"
     ]
    },
    {
     "data": {
      "image/png": "[encoded data removed]",
      "text/plain": [
       "<Figure size 640x480 with 1 Axes>"
      ]
     },
     "metadata": {},
     "output_type": "display_data"
    },
    {
     "name": "stdout",
     "output_type": "stream",
     "text": [
      "AUC: 1.0000\n"
     ]
    }
   ],
   "source": [
    "\n",
    "import matplotlib.pyplot as plt\n",
    "celeb_name = 'KanyeWest'\n",
    "celeb_embedding = embeddings[names == celeb_name]\n",
    "known_embeddings = celeb_embedding[:5]\n",
    "verifier = FacialVerifier(known_embeddings=known_embeddings)\n",
    "thresholds = np.arange(0, 2, 0.1)\n",
    "fpr_list, tpr_list = verifier.verify(embeddings, true_labels=names, name=celeb_name, thresholds=thresholds)\n",
    "\n",
    "# Plot the ROC curve\n",
    "plt.figure()\n",
    "plt.plot(fpr_list, tpr_list, label='ROC Curve')\n",
    "plt.plot([0, 1], [0, 1], 'k--', label='Random Guess')\n",
    "plt.xlabel('False Positive Rate')\n",
    "plt.ylabel('True Positive Rate')\n",
    "plt.title('Receiver Operating Characteristic (ROC) Curve')\n",
    "plt.legend()\n",
    "plt.show()\n",
    "\n",
    "# Compute the AUC\n",
    "auc = verifier.compute_auc(fpr_list, tpr_list)\n",
    "print(f\"AUC: {auc:.4f}\")\n",
    "\n"
   ]
  }
 ],
 "metadata": {
  "kernelspec": {
   "display_name": "Python 3",
   "language": "python",
   "name": "python3"
  },
  "language_info": {
   "codemirror_mode": {
    "name": "ipython",
    "version": 3
   },
   "file_extension": ".py",
   "mimetype": "text/x-python",
   "name": "python",
   "nbconvert_exporter": "python",
   "pygments_lexer": "ipython3",
   "version": "3.11.4"
  }
 },
 "nbformat": 4,
 "nbformat_minor": 2
}
