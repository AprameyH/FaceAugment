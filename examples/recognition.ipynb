{
 "cells": [
  {
   "cell_type": "markdown",
   "metadata": {},
   "source": [
    "# Face detection and recognition inference pipeline\n",
    "\n",
    "The following example illustrates how to use the `facenet_pytorch` python package to perform face detection and recogition on an image dataset using an Inception Resnet V1 pretrained on the VGGFace2 dataset.\n",
    "\n",
    "The following Pytorch methods are included:\n",
    "* Datasets\n",
    "* Dataloaders\n",
    "* GPU/CPU processing"
   ]
  },
  {
   "cell_type": "code",
   "execution_count": 58,
   "metadata": {},
   "outputs": [],
   "source": [
    "from facenet_pytorch import MTCNN, InceptionResnetV1\n",
    "import torch\n",
    "from torch.utils.data import DataLoader\n",
    "from torchvision import datasets\n",
    "import numpy as np\n",
    "import pandas as pd\n",
    "import os\n",
    "\n",
    "workers = 0 if os.name == 'nt' else 4"
   ]
  },
  {
   "cell_type": "markdown",
   "metadata": {},
   "source": [
    "#### Determine if an nvidia GPU is available"
   ]
  },
  {
   "cell_type": "code",
   "execution_count": 59,
   "metadata": {},
   "outputs": [
    {
     "name": "stdout",
     "output_type": "stream",
     "text": [
      "Running on device: cuda:0\n"
     ]
    }
   ],
   "source": [
    "device = torch.device('cuda:0' if torch.cuda.is_available() else 'cpu')\n",
    "print('Running on device: {}'.format(device))"
   ]
  },
  {
   "cell_type": "markdown",
   "metadata": {},
   "source": [
    "#### Define MTCNN module\n",
    "\n",
    "Default params shown for illustration, but not needed. Note that, since MTCNN is a collection of neural nets and other code, the device must be passed in the following way to enable copying of objects when needed internally.\n",
    "\n",
    "See `help(MTCNN)` for more details."
   ]
  },
  {
   "cell_type": "code",
   "execution_count": 60,
   "metadata": {},
   "outputs": [],
   "source": [
    "mtcnn = MTCNN(\n",
    "    image_size=160, margin=0, min_face_size=20,\n",
    "    thresholds=[0.6, 0.7, 0.7], factor=0.709, post_process=True,\n",
    "    device=device\n",
    ")"
   ]
  },
  {
   "cell_type": "markdown",
   "metadata": {},
   "source": [
    "#### Define Inception Resnet V1 module\n",
    "\n",
    "Set classify=True for pretrained classifier. For this example, we will use the model to output embeddings/CNN features. Note that for inference, it is important to set the model to `eval` mode.\n",
    "\n",
    "See `help(InceptionResnetV1)` for more details."
   ]
  },
  {
   "cell_type": "code",
   "execution_count": 61,
   "metadata": {},
   "outputs": [],
   "source": [
    "resnet = InceptionResnetV1(pretrained='vggface2').eval().to(device)"
   ]
  },
  {
   "cell_type": "markdown",
   "metadata": {},
   "source": [
    "#### Define a dataset and data loader\n",
    "\n",
    "We add the `idx_to_class` attribute to the dataset to enable easy recoding of label indices to identity names later one."
   ]
  },
  {
   "cell_type": "code",
   "execution_count": 62,
   "metadata": {},
   "outputs": [],
   "source": [
    "def collate_fn(x):\n",
    "    return x[0]\n",
    "\n",
    "dataset = datasets.ImageFolder('../images')\n",
    "dataset.idx_to_class = {i:c for c, i in dataset.class_to_idx.items()}\n",
    "loader = DataLoader(dataset, collate_fn=collate_fn, num_workers=workers)"
   ]
  },
  {
   "cell_type": "code",
   "execution_count": 63,
   "metadata": {},
   "outputs": [
    {
     "data": {
      "text/plain": [
       "{0: 'JackHarlow',\n",
       " 1: 'KanyeWest',\n",
       " 2: 'MargotRobbie',\n",
       " 3: 'PrinceHarry',\n",
       " 4: 'TomHolland',\n",
       " 5: 'angelina_jolie',\n",
       " 6: 'bradley_cooper',\n",
       " 7: 'kate_siegel',\n",
       " 8: 'paul_rudd',\n",
       " 9: 'shea_whigham'}"
      ]
     },
     "execution_count": 63,
     "metadata": {},
     "output_type": "execute_result"
    }
   ],
   "source": [
    "dataset.idx_to_class"
   ]
  },
  {
   "cell_type": "markdown",
   "metadata": {},
   "source": [
    "#### Perfom MTCNN facial detection\n",
    "\n",
    "Iterate through the DataLoader object and detect faces and associated detection probabilities for each. The `MTCNN` forward method returns images cropped to the detected face, if a face was detected. By default only a single detected face is returned - to have `MTCNN` return all detected faces, set `keep_all=True` when creating the MTCNN object above.\n",
    "\n",
    "To obtain bounding boxes rather than cropped face images, you can instead call the lower-level `mtcnn.detect()` function. See `help(mtcnn.detect)` for details."
   ]
  },
  {
   "cell_type": "code",
   "execution_count": 64,
   "metadata": {},
   "outputs": [
    {
     "name": "stdout",
     "output_type": "stream",
     "text": [
      "Face detected with probability: 0.999516\n",
      "Face detected with probability: 0.999999\n",
      "Face detected with probability: 0.999998\n",
      "Face detected with probability: 1.000000\n",
      "Face detected with probability: 0.999993\n",
      "Face detected with probability: 0.999636\n",
      "Face detected with probability: 0.999978\n",
      "Face detected with probability: 0.999965\n",
      "Face detected with probability: 0.999909\n",
      "Face detected with probability: 0.999677\n",
      "Face detected with probability: 0.999999\n",
      "Face detected with probability: 0.999997\n",
      "Face detected with probability: 0.999903\n",
      "Face detected with probability: 0.999862\n",
      "Face detected with probability: 0.999744\n",
      "Face detected with probability: 0.999944\n",
      "Face detected with probability: 0.999075\n",
      "Face detected with probability: 1.000000\n",
      "Face detected with probability: 0.999985\n",
      "Face detected with probability: 1.000000\n",
      "Face detected with probability: 1.000000\n",
      "Face detected with probability: 0.999999\n",
      "Face detected with probability: 0.999954\n",
      "Face detected with probability: 0.999925\n",
      "Face detected with probability: 1.000000\n",
      "Face detected with probability: 0.999981\n",
      "Face detected with probability: 1.000000\n",
      "Face detected with probability: 0.999995\n",
      "Face detected with probability: 1.000000\n",
      "Face detected with probability: 1.000000\n",
      "Face detected with probability: 0.999986\n",
      "Face detected with probability: 0.999999\n",
      "Face detected with probability: 0.999989\n",
      "Face detected with probability: 0.999998\n",
      "Face detected with probability: 1.000000\n",
      "Face detected with probability: 0.999999\n",
      "Face detected with probability: 0.999873\n",
      "Face detected with probability: 0.999876\n",
      "Face detected with probability: 1.000000\n",
      "Face detected with probability: 0.999997\n",
      "Face detected with probability: 0.999916\n",
      "Face detected with probability: 0.999670\n",
      "Face detected with probability: 0.999829\n",
      "Face detected with probability: 0.999924\n",
      "Face detected with probability: 0.961198\n",
      "Face detected with probability: 0.999970\n",
      "Face detected with probability: 0.999884\n",
      "Face detected with probability: 0.999953\n",
      "Face detected with probability: 0.999939\n",
      "Face detected with probability: 0.999985\n",
      "Face detected with probability: 1.000000\n",
      "Face detected with probability: 0.998593\n",
      "Face detected with probability: 0.999981\n",
      "Face detected with probability: 0.999995\n",
      "Face detected with probability: 0.999925\n",
      "Face detected with probability: 0.999999\n",
      "Face detected with probability: 0.999898\n",
      "Face detected with probability: 0.999246\n",
      "Face detected with probability: 0.999662\n",
      "Face detected with probability: 1.000000\n",
      "Face detected with probability: 0.999855\n",
      "Face detected with probability: 0.999983\n",
      "Face detected with probability: 0.981318\n",
      "Face detected with probability: 1.000000\n",
      "Face detected with probability: 0.999930\n",
      "Face detected with probability: 0.999314\n",
      "Face detected with probability: 0.999994\n",
      "Face detected with probability: 1.000000\n",
      "Face detected with probability: 0.999993\n",
      "Face detected with probability: 0.999986\n",
      "Face detected with probability: 0.999994\n",
      "Face detected with probability: 0.999982\n",
      "Face detected with probability: 0.997712\n",
      "Face detected with probability: 0.999758\n",
      "Face detected with probability: 0.999981\n",
      "Face detected with probability: 0.998854\n",
      "Face detected with probability: 0.999314\n",
      "Face detected with probability: 0.999893\n",
      "Face detected with probability: 0.999795\n",
      "Face detected with probability: 1.000000\n",
      "Face detected with probability: 0.998447\n",
      "Face detected with probability: 0.999441\n",
      "Face detected with probability: 0.999809\n",
      "Face detected with probability: 0.999995\n",
      "Face detected with probability: 0.999693\n",
      "Face detected with probability: 0.999936\n",
      "Face detected with probability: 0.999923\n",
      "Face detected with probability: 0.999717\n",
      "Face detected with probability: 0.999835\n",
      "Face detected with probability: 0.999961\n",
      "Face detected with probability: 1.000000\n",
      "Face detected with probability: 0.999987\n",
      "Face detected with probability: 0.999997\n",
      "Face detected with probability: 0.999926\n",
      "Face detected with probability: 0.999828\n",
      "Face detected with probability: 1.000000\n",
      "Face detected with probability: 1.000000\n",
      "Face detected with probability: 1.000000\n",
      "Face detected with probability: 0.999997\n",
      "Face detected with probability: 0.999999\n",
      "Face detected with probability: 0.999998\n",
      "Face detected with probability: 0.999999\n",
      "Face detected with probability: 0.999934\n",
      "Face detected with probability: 0.999518\n",
      "Face detected with probability: 0.999987\n",
      "Face detected with probability: 0.999966\n",
      "Face detected with probability: 1.000000\n",
      "Face detected with probability: 0.999879\n",
      "Face detected with probability: 0.999998\n",
      "Face detected with probability: 0.999827\n",
      "Face detected with probability: 0.999987\n",
      "Face detected with probability: 0.999993\n",
      "Face detected with probability: 0.999624\n",
      "Face detected with probability: 0.999999\n",
      "Face detected with probability: 0.997718\n",
      "Face detected with probability: 1.000000\n",
      "Face detected with probability: 0.999984\n",
      "Face detected with probability: 0.999993\n",
      "Face detected with probability: 0.999993\n",
      "Face detected with probability: 0.999983\n",
      "Face detected with probability: 0.999934\n",
      "Face detected with probability: 0.999733\n",
      "Face detected with probability: 0.999876\n",
      "Face detected with probability: 0.999992\n"
     ]
    }
   ],
   "source": [
    "aligned = []\n",
    "names = []\n",
    "# only get one image per person\n",
    "# people = set()\n",
    "for x, y in loader:\n",
    "    person = dataset.idx_to_class[y]\n",
    "    # if person in people:\n",
    "    #     continue\n",
    "    # people.add(person)\n",
    "    x_aligned, prob = mtcnn(x, return_prob=True)\n",
    "    if x_aligned is not None:\n",
    "        print('Face detected with probability: {:8f}'.format(prob))\n",
    "        aligned.append(x_aligned)\n",
    "        names.append(person)"
   ]
  },
  {
   "cell_type": "code",
   "execution_count": 65,
   "metadata": {},
   "outputs": [],
   "source": [
    "# split up aligned images into batches\n",
    "aligned = torch.stack(aligned)\n",
    "aligned = torch.split(aligned, 32)\n",
    "# pass each batch through resnet\n",
    "embeddings = []\n",
    "for batch in aligned:\n",
    "    embeddings.extend(resnet(batch.to(device)).detach().cpu())"
   ]
  },
  {
   "cell_type": "code",
   "execution_count": 66,
   "metadata": {},
   "outputs": [],
   "source": [
    "# convert embeddings to numpy\n",
    "embeddings = torch.stack(embeddings).numpy()\n",
    "names = np.array(names)"
   ]
  },
  {
   "cell_type": "markdown",
   "metadata": {},
   "source": [
    "#### Calculate image embeddings\n",
    "\n",
    "MTCNN will return images of faces all the same size, enabling easy batch processing with the Resnet recognition module. Here, since we only have a few images, we build a single batch and perform inference on it. \n",
    "\n",
    "For real datasets, code should be modified to control batch sizes being passed to the Resnet, particularly if being processed on a GPU. For repeated testing, it is best to separate face detection (using MTCNN) from embedding or classification (using InceptionResnetV1), as calculation of cropped faces or bounding boxes can then be performed a single time and detected faces saved for future use."
   ]
  },
  {
   "cell_type": "code",
   "execution_count": 69,
   "metadata": {},
   "outputs": [],
   "source": [
    "import numpy as np\n",
    "from sklearn.metrics import roc_curve, auc\n",
    "\n",
    "class FacialVerifier:\n",
    "    def __init__(self, known_embeddings):\n",
    "        self.known_embeddings = known_embeddings\n",
    "    \n",
    "    def verify(self, unknown_embeddings, true_labels, name, thresholds):\n",
    "        distances = self._compute_distances(unknown_embeddings)\n",
    "        \n",
    "        # all true labels with name should be 1, all others should be 0\n",
    "        true_labels = np.array([1 if label == name else 0 for label in true_labels])\n",
    "     \n",
    "        fpr_list = []\n",
    "        tpr_list = []\n",
    "        \n",
    "        for threshold in thresholds:\n",
    "            predicted_labels = np.array(distances) <= threshold\n",
    "            \n",
    "            tp = np.sum((predicted_labels == 1) & (true_labels == 1))\n",
    "            fp = np.sum((predicted_labels == 1) & (true_labels == 0))\n",
    "            tn = np.sum((predicted_labels == 0) & (true_labels == 0))\n",
    "            fn = np.sum((predicted_labels == 0) & (true_labels == 1))\n",
    "            \n",
    "            fpr = fp / (fp + tn)\n",
    "            tpr = tp / (tp + fn)\n",
    "            \n",
    "            fpr_list.append(fpr)\n",
    "            tpr_list.append(tpr)\n",
    "            \n",
    "            accuracy = (tp + tn) / len(unknown_embeddings)\n",
    "            print(f\"Threshold: {threshold:.2f}, Accuracy: {accuracy:.2f}, FPR: {fpr:.2f}, TPR: {tpr:.2f}\")\n",
    "        return fpr_list, tpr_list\n",
    "    \n",
    "    def _compute_distances(self, unknown_embeddings):\n",
    "        distances = []\n",
    "        for embedding in unknown_embeddings:\n",
    "            min_distance = float('inf')\n",
    "            for known_embedding in self.known_embeddings:\n",
    "                distance = np.linalg.norm(embedding - known_embedding)\n",
    "                min_distance = min(min_distance, distance)\n",
    "            distances.append(min_distance)\n",
    "        return distances\n",
    "    \n",
    "    def _compute_accuracy(self, distances, true_labels, threshold):\n",
    "        predicted_labels = np.array(distances) <= threshold\n",
    "        accuracy = np.mean(predicted_labels == true_labels)\n",
    "        return accuracy\n"
   ]
  },
  {
   "cell_type": "code",
   "execution_count": 76,
   "metadata": {},
   "outputs": [
    {
     "name": "stdout",
     "output_type": "stream",
     "text": [
      "Threshold: 0.00, Accuracy: 0.73, FPR: 0.00, TPR: 0.03\n",
      "Threshold: 0.10, Accuracy: 0.73, FPR: 0.00, TPR: 0.03\n",
      "Threshold: 0.20, Accuracy: 0.73, FPR: 0.00, TPR: 0.03\n",
      "Threshold: 0.30, Accuracy: 0.73, FPR: 0.00, TPR: 0.03\n",
      "Threshold: 0.40, Accuracy: 0.73, FPR: 0.00, TPR: 0.03\n",
      "Threshold: 0.50, Accuracy: 0.73, FPR: 0.00, TPR: 0.03\n",
      "Threshold: 0.60, Accuracy: 0.73, FPR: 0.00, TPR: 0.03\n",
      "Threshold: 0.70, Accuracy: 0.76, FPR: 0.00, TPR: 0.12\n",
      "Threshold: 0.80, Accuracy: 0.83, FPR: 0.00, TPR: 0.38\n",
      "Threshold: 0.90, Accuracy: 0.90, FPR: 0.00, TPR: 0.65\n",
      "Threshold: 1.00, Accuracy: 0.96, FPR: 0.00, TPR: 0.85\n",
      "Threshold: 1.10, Accuracy: 0.98, FPR: 0.01, TPR: 0.94\n",
      "Threshold: 1.20, Accuracy: 0.95, FPR: 0.06, TPR: 0.97\n",
      "Threshold: 1.30, Accuracy: 0.83, FPR: 0.23, TPR: 1.00\n",
      "Threshold: 1.40, Accuracy: 0.81, FPR: 0.27, TPR: 1.00\n",
      "Threshold: 1.50, Accuracy: 0.56, FPR: 0.60, TPR: 1.00\n",
      "Threshold: 1.60, Accuracy: 0.40, FPR: 0.82, TPR: 1.00\n",
      "Threshold: 1.70, Accuracy: 0.28, FPR: 0.99, TPR: 1.00\n",
      "Threshold: 1.80, Accuracy: 0.27, FPR: 1.00, TPR: 1.00\n",
      "Threshold: 1.90, Accuracy: 0.27, FPR: 1.00, TPR: 1.00\n"
     ]
    },
    {
     "data": {
      "image/png": "[encoded data removed]",
      "text/plain": [
       "<Figure size 640x480 with 1 Axes>"
      ]
     },
     "metadata": {},
     "output_type": "display_data"
    }
   ],
   "source": [
    "\n",
    "import matplotlib.pyplot as plt\n",
    "celeb_name = 'TomHolland'\n",
    "Tom_Holland_embeds = embeddings[names == celeb_name]\n",
    "verifier = FacialVerifier(known_embeddings=Tom_Holland_embeds[:1])\n",
    "thresholds = np.arange(0, 2, 0.1)\n",
    "fpr_list, tpr_list = verifier.verify(embeddings, true_labels=names, name=celeb_name, thresholds=thresholds)\n",
    "\n",
    "# Plot the ROC curve\n",
    "plt.figure()\n",
    "plt.plot(fpr_list, tpr_list, label='ROC Curve')\n",
    "plt.plot([0, 1], [0, 1], 'k--', label='Random Guess')\n",
    "plt.xlabel('False Positive Rate')\n",
    "plt.ylabel('True Positive Rate')\n",
    "plt.title('Receiver Operating Characteristic (ROC) Curve')\n",
    "plt.legend()\n",
    "plt.show()\n",
    "\n"
   ]
  }
 ],
 "metadata": {
  "kernelspec": {
   "display_name": "Python 3",
   "language": "python",
   "name": "python3"
  },
  "language_info": {
   "codemirror_mode": {
    "name": "ipython",
    "version": 3
   },
   "file_extension": ".py",
   "mimetype": "text/x-python",
   "name": "python",
   "nbconvert_exporter": "python",
   "pygments_lexer": "ipython3",
   "version": "3.11.4"
  }
 },
 "nbformat": 4,
 "nbformat_minor": 2
}
